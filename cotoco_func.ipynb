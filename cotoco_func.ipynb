{
  "nbformat": 4,
  "nbformat_minor": 0,
  "metadata": {
    "colab": {
      "provenance": []
    },
    "kernelspec": {
      "name": "julia",
      "display_name": "Julia"
    },
    "language_info": {
      "name": "julia"
    }
  },
  "cells": [
    {
      "cell_type": "code",
      "source": [
        "%%shell\n",
        "set -e\n",
        "\n",
        "#---------------------------------------------------#\n",
        "JULIA_VERSION=\"1.8.2\" # any version ≥ 0.7.0\n",
        "JULIA_PACKAGES=\"IJulia BenchmarkTools\"\n",
        "JULIA_PACKAGES_IF_GPU=\"CUDA\" # or CuArrays for older Julia versions\n",
        "JULIA_NUM_THREADS=2\n",
        "#---------------------------------------------------#\n",
        "\n",
        "if [ -z `which julia` ]; then\n",
        "  # Install Julia\n",
        "  JULIA_VER=`cut -d '.' -f -2 <<< \"$JULIA_VERSION\"`\n",
        "  echo \"Installing Julia $JULIA_VERSION on the current Colab Runtime...\"\n",
        "  BASE_URL=\"https://julialang-s3.julialang.org/bin/linux/x64\"\n",
        "  URL=\"$BASE_URL/$JULIA_VER/julia-$JULIA_VERSION-linux-x86_64.tar.gz\"\n",
        "  wget -nv $URL -O /tmp/julia.tar.gz # -nv means \"not verbose\"\n",
        "  tar -x -f /tmp/julia.tar.gz -C /usr/local --strip-components 1\n",
        "  rm /tmp/julia.tar.gz\n",
        "\n",
        "  # Install Packages\n",
        "  nvidia-smi -L &> /dev/null && export GPU=1 || export GPU=0\n",
        "  if [ $GPU -eq 1 ]; then\n",
        "    JULIA_PACKAGES=\"$JULIA_PACKAGES $JULIA_PACKAGES_IF_GPU\"\n",
        "  fi\n",
        "  for PKG in `echo $JULIA_PACKAGES`; do\n",
        "    echo \"Installing Julia package $PKG...\"\n",
        "    julia -e 'using Pkg; pkg\"add '$PKG'; precompile;\"' &> /dev/null\n",
        "  done\n",
        "\n",
        "  # Install kernel and rename it to \"julia\"\n",
        "  echo \"Installing IJulia kernel...\"\n",
        "  julia -e 'using IJulia; IJulia.installkernel(\"julia\", env=Dict(\n",
        "      \"JULIA_NUM_THREADS\"=>\"'\"$JULIA_NUM_THREADS\"'\"))'\n",
        "  KERNEL_DIR=`julia -e \"using IJulia; print(IJulia.kerneldir())\"`\n",
        "  KERNEL_NAME=`ls -d \"$KERNEL_DIR\"/julia*`\n",
        "  mv -f $KERNEL_NAME \"$KERNEL_DIR\"/julia\n",
        "\n",
        "  echo ''\n",
        "  echo \"Successfully installed `julia -v`!\"\n",
        "  echo \"Please reload this page (press Ctrl+R, ⌘+R, or the F5 key) then\"\n",
        "  echo \"jump to the 'Checking the Installation' section.\"\n",
        "fi"
      ],
      "metadata": {
        "colab": {
          "base_uri": "https://localhost:8080/",
          "height": 89
        },
        "id": "YnwueEkiBdwJ",
        "outputId": "629fb61d-49d7-429e-e4c9-052472196e0d"
      },
      "execution_count": 1,
      "outputs": [
        {
          "output_type": "display_data",
          "data": {
            "text/plain": [
              "  Unrecognized magic \u001b[36m%%shell\u001b[39m.\n",
              "\n",
              "  Julia does not use the IPython \u001b[36m%magic\u001b[39m syntax. To interact with the IJulia\n",
              "  kernel, use \u001b[36mIJulia.somefunction(...)\u001b[39m, for example. Julia macros, string\n",
              "  macros, and functions can be used to accomplish most of the other\n",
              "  functionalities of IPython magics."
            ],
            "text/markdown": "Unrecognized magic `%%shell`.\n\nJulia does not use the IPython `%magic` syntax.   To interact with the IJulia kernel, use `IJulia.somefunction(...)`, for example.  Julia macros, string macros, and functions can be used to accomplish most of the other functionalities of IPython magics.\n",
            "text/latex": "Unrecognized magic \\texttt{\\%\\%shell}.\n\nJulia does not use the IPython \\texttt{\\%magic} syntax.   To interact with the IJulia kernel, use \\texttt{IJulia.somefunction(...)}, for example.  Julia macros, string macros, and functions can be used to accomplish most of the other functionalities of IPython magics.\n\n"
          },
          "metadata": {}
        }
      ]
    },
    {
      "cell_type": "code",
      "source": [
        "using LinearAlgebra\n",
        "\n",
        "function Make_D1_D2(bl,br,wl,wr,r, D1_til, D2_til)\n",
        "    D1= [I(bl)        zeros(bl,r) zeros(bl,br);\n",
        "         zeros(r,bl)  D1_til      zeros(r,br);\n",
        "         zeros(wl,bl) zeros(wl,r) zeros(wl,br)]\n",
        "\n",
        "    #D2 in our format\n",
        "    D2= [zeros(wr,bl) zeros(wr,r) zeros(wr,br);\n",
        "         zeros(r,bl)  D2_til      zeros(r,br);\n",
        "         zeros(br,bl) zeros(br,r) I(br)]\n",
        "\n",
        "    return D1, D2\n",
        "end\n",
        "\n",
        "function Make_A_B(bl,br,wl,wr,r,D1_til,D2_til,H,U,V)\n",
        "    D1,D2 = Make_D1_D2(bl,br,wl,wr,r, D1_til, D2_til)\n",
        "\n",
        "    A = U * D1 * H\n",
        "    B = V * D2 * H\n",
        "\n",
        "    return A, B\n",
        "end\n",
        "\n",
        "function Our_SVD(A,B)\n",
        "    bl,br,wl,wr,r = wire_size(A,B)\n",
        "    U, V, Q, D1, D2_julia, R0 = svd(A, B)\n",
        "\n",
        "    P, D2_our = permutation(wr,r,br, D2_julia)\n",
        "    V_til = V * P #Changing variable to fix line changes in D2\n",
        "\n",
        "    #Selects D1_tilde and D2_tilde\n",
        "    D1_til = D1[bl+1:bl+r, bl+1:bl+r]\n",
        "    D2_til = D2_our[wr+1:wr+r, bl+1:bl+r]\n",
        "\n",
        "    H = R0 * Q'\n",
        "\n",
        "    return U, V_til, H, D1_til, D2_til, D1, D2_our, bl, br, wl, wr, r, P, V\n",
        "end\n",
        "\n",
        "function wire_size(A,B)\n",
        "    m,.. = size(A)\n",
        "    p,.. = size(B)\n",
        "    .., .., .., D1, D2, .. = svd(A, B)\n",
        "    ..,k_mais_l = size(D1)\n",
        "\n",
        "    #Counting k: D1 is a m-by-(k_mais_l) diagonal matrix with 1s in the first k entries,\n",
        "    k = 0\n",
        "    for i in 1:min(m, k_mais_l)\n",
        "        if D1[i, i] == 1\n",
        "            k += 1\n",
        "        else\n",
        "            k += 0\n",
        "        end\n",
        "    end\n",
        "\n",
        "    l = k_mais_l-k\n",
        "\n",
        "    #Counting r: D2 is a matrix whose upper-right l-by-l block is diagonal,\n",
        "    #   with the first r entries belonging to D2_til and the rest 1s.\n",
        "    r = 0\n",
        "    for i in 1:l\n",
        "        if D2[i, k+i] != 1\n",
        "            r += 1\n",
        "        else\n",
        "            r += 0\n",
        "        end\n",
        "    end\n",
        "\n",
        "    bl = k\n",
        "    br = l - r\n",
        "    wl = m - k - r\n",
        "    wr = p - l\n",
        "\n",
        "    return bl,br,wl,wr,r\n",
        "end\n",
        "\n",
        "function permutation(wr,r,br, D2_julia)\n",
        "    P = [zeros(r,wr)  I(r)        zeros(r,br);\n",
        "         zeros(br,wr) zeros(br,r) I(br);\n",
        "         I(wr)        zeros(wr,r) zeros(wr,br)]\n",
        "\n",
        "    P_til = [zeros(wr,r) zeros(wr,br) I(wr);\n",
        "             I(r)        zeros(r,br)  zeros(r,wr);\n",
        "             zeros(br,r) I(br)        zeros(br,wr)]\n",
        "\n",
        "    D2_our = P_til * D2_julia\n",
        "\n",
        "    return P, D2_our\n",
        "end"
      ],
      "metadata": {
        "colab": {
          "base_uri": "https://localhost:8080/"
        },
        "id": "o5jpuYuKB4VZ",
        "outputId": "93780ba8-ae88-425b-a3ee-323f33d2eb03"
      },
      "execution_count": 2,
      "outputs": [
        {
          "output_type": "execute_result",
          "data": {
            "text/plain": [
              "permutation (generic function with 1 method)"
            ]
          },
          "metadata": {},
          "execution_count": 2
        }
      ]
    },
    {
      "cell_type": "code",
      "source": [
        "B = [0 1 0\n",
        "     0 0 1]\n",
        "\n",
        "A = [1 0 0\n",
        "     0 1 0]"
      ],
      "metadata": {
        "colab": {
          "base_uri": "https://localhost:8080/"
        },
        "id": "sEklF6c_VQjM",
        "outputId": "231f2dd1-4ba9-4d75-a16f-a80ea68cf19e"
      },
      "execution_count": 14,
      "outputs": [
        {
          "output_type": "execute_result",
          "data": {
            "text/plain": [
              "2×3 Matrix{Int64}:\n",
              " 1  0  0\n",
              " 0  1  0"
            ]
          },
          "metadata": {},
          "execution_count": 14
        }
      ]
    },
    {
      "cell_type": "code",
      "source": [
        "U, V_til, H, D1_til, D2_til, D1, D2_our, bl, br, wl, wr, r, P, V = Our_SVD(A,B)\n",
        "display(D1)\n",
        "display(D2_our)\n",
        "display(bl)\n",
        "display(wl)\n",
        "display(r)\n",
        "display(br)\n",
        "display(wr)"
      ],
      "metadata": {
        "colab": {
          "base_uri": "https://localhost:8080/",
          "height": 218
        },
        "id": "7FZuRQ1EVgzL",
        "outputId": "777d83f9-6a96-4070-a8f0-56f7d2114121"
      },
      "execution_count": 15,
      "outputs": [
        {
          "output_type": "display_data",
          "data": {
            "text/plain": [
              "2×3 Matrix{Float64}:\n",
              " 1.0  0.0       0.0\n",
              " 0.0  0.707107  0.0"
            ]
          },
          "metadata": {}
        },
        {
          "output_type": "display_data",
          "data": {
            "text/plain": [
              "2×3 Matrix{Float64}:\n",
              " 0.0  0.707107  0.0\n",
              " 0.0  0.0       1.0"
            ]
          },
          "metadata": {}
        },
        {
          "output_type": "display_data",
          "data": {
            "text/plain": [
              "1"
            ]
          },
          "metadata": {}
        },
        {
          "output_type": "display_data",
          "data": {
            "text/plain": [
              "0"
            ]
          },
          "metadata": {}
        },
        {
          "output_type": "display_data",
          "data": {
            "text/plain": [
              "1"
            ]
          },
          "metadata": {}
        },
        {
          "output_type": "display_data",
          "data": {
            "text/plain": [
              "1"
            ]
          },
          "metadata": {}
        },
        {
          "output_type": "display_data",
          "data": {
            "text/plain": [
              "0"
            ]
          },
          "metadata": {}
        }
      ]
    },
    {
      "cell_type": "code",
      "source": [
        "function op_switch(D1_til, D2_til, bl, br, wl, wr, r)\n",
        "    # Cria as novas matrizes de zeros com as dimensões corretas\n",
        "    D1_new = zeros(bl + r + wl, bl + r + wl)\n",
        "    D2_new = zeros(wr + r + br, bl + r + wl)\n",
        "\n",
        "    # Monta o novo D1\n",
        "    D1_new[1:bl, 1:bl] .= I(bl)                   # bloco identidade inicial\n",
        "    D1_new[bl+1:bl+r, bl+1:bl+r] .= D1_til         # bloco D1_til no meio\n",
        "    D1_new[bl+r+1:end, bl+r+1:end] .= I(wl)        # bloco identidade no final\n",
        "\n",
        "    # Monta o novo D2\n",
        "    D2_new[wr+1:wr+r, bl+1:bl+r] .= D2_til         # bloco D2_til no meio\n",
        "    # (resto de D2_new já é zero, não precisa fazer mais nada)\n",
        "\n",
        "    return D1_new, D2_new\n",
        "end\n"
      ],
      "metadata": {
        "colab": {
          "base_uri": "https://localhost:8080/"
        },
        "id": "gkhVjTxsOany",
        "outputId": "20707ce2-5d7d-4b2e-9f17-bd252e37b25b"
      },
      "execution_count": 16,
      "outputs": [
        {
          "output_type": "execute_result",
          "data": {
            "text/plain": [
              "op_switch (generic function with 1 method)"
            ]
          },
          "metadata": {},
          "execution_count": 16
        }
      ]
    },
    {
      "cell_type": "code",
      "source": [
        "D1_new, D2_new =  op_switch(D1_til, D2_til, bl, br, wl, wr, r)\n",
        "#display(D1)\n",
        "display(D1_new)\n",
        "\n",
        "#display(D2_our)\n",
        "display(D2_new)\n",
        "\n",
        "T = D2_new*inv(D1_new)"
      ],
      "metadata": {
        "colab": {
          "base_uri": "https://localhost:8080/",
          "height": 181
        },
        "id": "m-7Zs0_VV86C",
        "outputId": "735a2ef3-58c7-4f0c-be23-848d53470dbb"
      },
      "execution_count": 58,
      "outputs": [
        {
          "output_type": "display_data",
          "data": {
            "text/plain": [
              "2×2 Matrix{Float64}:\n",
              " 1.0  0.0\n",
              " 0.0  0.707107"
            ]
          },
          "metadata": {}
        },
        {
          "output_type": "display_data",
          "data": {
            "text/plain": [
              "2×2 Matrix{Float64}:\n",
              " 0.0  0.707107\n",
              " 0.0  0.0"
            ]
          },
          "metadata": {}
        },
        {
          "output_type": "execute_result",
          "data": {
            "text/plain": [
              "2×2 Matrix{Float64}:\n",
              " 0.0  1.0\n",
              " 0.0  0.0"
            ]
          },
          "metadata": {},
          "execution_count": 58
        }
      ]
    },
    {
      "cell_type": "code",
      "source": [
        "function aprox(D1_til, D2_til, n)\n",
        "    D1_vec = diag(D1_til)\n",
        "    D2_vec = diag(D2_til)\n",
        "    display(D1_vec)\n",
        "    display(D2_vec)\n",
        "    for i in 1:n\n",
        "        D1_vec[i] = 1\n",
        "        D2_vec[i] = 0\n",
        "    end\n",
        "\n",
        "    return Diagonal(D1_vec), Diagonal(D2_vec)\n",
        "end\n",
        "\n",
        "\n",
        "\n",
        "function op_aprox(D1_til, D2_til, D1_new, D2_new, bl, br, wl, wr, r, n)\n",
        "    D1_new = zeros(bl + r + wl, bl + r + wl)\n",
        "    D2_new = zeros(wr + r + br, bl + r + wl)\n",
        "\n",
        "    D1_til_aprox, D2_til_aprox = aprox(D1_til, D2_til, n)\n",
        "\n",
        "    display(D1_til_aprox)\n",
        "    display(D2_til_aprox)\n",
        "    D1_new[1:bl, 1:bl] .= I(bl)\n",
        "    D1_new[bl+1:bl+r, bl+1:bl+r] .= Matrix(D1_til_aprox)\n",
        "    D1_new[bl+r+1:end, bl+r+1:end] .= I(wl)\n",
        "\n",
        "    D2_new[wr+1:wr+r, bl+1:bl+r] .= Matrix(D2_til_aprox)\n",
        "\n",
        "    return D1_new, D2_new\n",
        "end\n",
        "\n",
        "\n"
      ],
      "metadata": {
        "colab": {
          "base_uri": "https://localhost:8080/"
        },
        "id": "jp7LWRBq_EVC",
        "outputId": "3eae7dd7-0a88-4445-c0b6-a04d254c8fa8"
      },
      "execution_count": 65,
      "outputs": [
        {
          "output_type": "execute_result",
          "data": {
            "text/plain": [
              "op_aprox (generic function with 1 method)"
            ]
          },
          "metadata": {},
          "execution_count": 65
        }
      ]
    },
    {
      "cell_type": "code",
      "source": [
        "D1, D2 = op_aprox(D1_til, D2_til, D1_new, D2_new, bl, br, wl, wr, r, 1)\n",
        "\n",
        "display(D1)\n",
        "display(D2)\n",
        "T_aprox = D2*inv(D1)"
      ],
      "metadata": {
        "colab": {
          "base_uri": "https://localhost:8080/",
          "height": 327
        },
        "id": "o9TAAdtxGK1w",
        "outputId": "1415d229-33b0-4857-d281-b7ca3e9ebe26"
      },
      "execution_count": 66,
      "outputs": [
        {
          "output_type": "display_data",
          "data": {
            "text/plain": [
              "1-element Vector{Float64}:\n",
              " 0.7071067811865475"
            ]
          },
          "metadata": {}
        },
        {
          "output_type": "display_data",
          "data": {
            "text/plain": [
              "1-element Vector{Float64}:\n",
              " 0.7071067811865475"
            ]
          },
          "metadata": {}
        },
        {
          "output_type": "display_data",
          "data": {
            "text/plain": [
              "1×1 Diagonal{Float64, Vector{Float64}}:\n",
              " 1.0"
            ]
          },
          "metadata": {}
        },
        {
          "output_type": "display_data",
          "data": {
            "text/plain": [
              "1×1 Diagonal{Float64, Vector{Float64}}:\n",
              " 0.0"
            ]
          },
          "metadata": {}
        },
        {
          "output_type": "display_data",
          "data": {
            "text/plain": [
              "2×2 Matrix{Float64}:\n",
              " 1.0  0.0\n",
              " 0.0  1.0"
            ]
          },
          "metadata": {}
        },
        {
          "output_type": "display_data",
          "data": {
            "text/plain": [
              "2×2 Matrix{Float64}:\n",
              " 0.0  0.0\n",
              " 0.0  0.0"
            ]
          },
          "metadata": {}
        },
        {
          "output_type": "execute_result",
          "data": {
            "text/plain": [
              "2×2 Matrix{Float64}:\n",
              " 0.0  0.0\n",
              " 0.0  0.0"
            ]
          },
          "metadata": {},
          "execution_count": 66
        }
      ]
    }
  ]
}