{
  "nbformat": 4,
  "nbformat_minor": 0,
  "metadata": {
    "colab": {
      "provenance": []
    },
    "kernelspec": {
      "name": "julia",
      "display_name": "Julia"
    },
    "language_info": {
      "name": "julia"
    }
  },
  "cells": [
    {
      "cell_type": "code",
      "source": [
        "%%shell\n",
        "set -e\n",
        "\n",
        "#---------------------------------------------------#\n",
        "JULIA_VERSION=\"1.8.2\" # any version ≥ 0.7.0\n",
        "JULIA_PACKAGES=\"IJulia BenchmarkTools\"\n",
        "JULIA_PACKAGES_IF_GPU=\"CUDA\" # or CuArrays for older Julia versions\n",
        "JULIA_NUM_THREADS=2\n",
        "#---------------------------------------------------#\n",
        "\n",
        "if [ -z `which julia` ]; then\n",
        "  # Install Julia\n",
        "  JULIA_VER=`cut -d '.' -f -2 <<< \"$JULIA_VERSION\"`\n",
        "  echo \"Installing Julia $JULIA_VERSION on the current Colab Runtime...\"\n",
        "  BASE_URL=\"https://julialang-s3.julialang.org/bin/linux/x64\"\n",
        "  URL=\"$BASE_URL/$JULIA_VER/julia-$JULIA_VERSION-linux-x86_64.tar.gz\"\n",
        "  wget -nv $URL -O /tmp/julia.tar.gz # -nv means \"not verbose\"\n",
        "  tar -x -f /tmp/julia.tar.gz -C /usr/local --strip-components 1\n",
        "  rm /tmp/julia.tar.gz\n",
        "\n",
        "  # Install Packages\n",
        "  nvidia-smi -L &> /dev/null && export GPU=1 || export GPU=0\n",
        "  if [ $GPU -eq 1 ]; then\n",
        "    JULIA_PACKAGES=\"$JULIA_PACKAGES $JULIA_PACKAGES_IF_GPU\"\n",
        "  fi\n",
        "  for PKG in `echo $JULIA_PACKAGES`; do\n",
        "    echo \"Installing Julia package $PKG...\"\n",
        "    julia -e 'using Pkg; pkg\"add '$PKG'; precompile;\"' &> /dev/null\n",
        "  done\n",
        "\n",
        "  # Install kernel and rename it to \"julia\"\n",
        "  echo \"Installing IJulia kernel...\"\n",
        "  julia -e 'using IJulia; IJulia.installkernel(\"julia\", env=Dict(\n",
        "      \"JULIA_NUM_THREADS\"=>\"'\"$JULIA_NUM_THREADS\"'\"))'\n",
        "  KERNEL_DIR=`julia -e \"using IJulia; print(IJulia.kerneldir())\"`\n",
        "  KERNEL_NAME=`ls -d \"$KERNEL_DIR\"/julia*`\n",
        "  mv -f $KERNEL_NAME \"$KERNEL_DIR\"/julia\n",
        "\n",
        "  echo ''\n",
        "  echo \"Successfully installed `julia -v`!\"\n",
        "  echo \"Please reload this page (press Ctrl+R, ⌘+R, or the F5 key) then\"\n",
        "  echo \"jump to the 'Checking the Installation' section.\"\n",
        "fi"
      ],
      "metadata": {
        "colab": {
          "base_uri": "https://localhost:8080/",
          "height": 89
        },
        "id": "YnwueEkiBdwJ",
        "outputId": "5124add1-c9bc-400d-aeee-aa276ebd3dca"
      },
      "execution_count": 1,
      "outputs": [
        {
          "output_type": "display_data",
          "data": {
            "text/plain": [
              "  Unrecognized magic \u001b[36m%%shell\u001b[39m.\n",
              "\n",
              "  Julia does not use the IPython \u001b[36m%magic\u001b[39m syntax. To interact with the IJulia\n",
              "  kernel, use \u001b[36mIJulia.somefunction(...)\u001b[39m, for example. Julia macros, string\n",
              "  macros, and functions can be used to accomplish most of the other\n",
              "  functionalities of IPython magics."
            ],
            "text/markdown": "Unrecognized magic `%%shell`.\n\nJulia does not use the IPython `%magic` syntax.   To interact with the IJulia kernel, use `IJulia.somefunction(...)`, for example.  Julia macros, string macros, and functions can be used to accomplish most of the other functionalities of IPython magics.\n",
            "text/latex": "Unrecognized magic \\texttt{\\%\\%shell}.\n\nJulia does not use the IPython \\texttt{\\%magic} syntax.   To interact with the IJulia kernel, use \\texttt{IJulia.somefunction(...)}, for example.  Julia macros, string macros, and functions can be used to accomplish most of the other functionalities of IPython magics.\n\n"
          },
          "metadata": {}
        }
      ]
    },
    {
      "cell_type": "code",
      "source": [
        "using LinearAlgebra\n",
        "\n",
        "function Make_D1_D2(bl,br,wl,wr,r, D1_til, D2_til)\n",
        "    D1= [I(bl)        zeros(bl,r) zeros(bl,br);\n",
        "         zeros(r,bl)  D1_til      zeros(r,br);\n",
        "         zeros(wl,bl) zeros(wl,r) zeros(wl,br)]\n",
        "\n",
        "    #D2 in our format\n",
        "    D2= [zeros(wr,bl) zeros(wr,r) zeros(wr,br);\n",
        "         zeros(r,bl)  D2_til      zeros(r,br);\n",
        "         zeros(br,bl) zeros(br,r) I(br)]\n",
        "\n",
        "    return D1, D2\n",
        "end\n",
        "\n",
        "function Make_A_B(bl,br,wl,wr,r,D1_til,D2_til,H,U,V)\n",
        "    D1,D2 = Make_D1_D2(bl,br,wl,wr,r, D1_til, D2_til)\n",
        "\n",
        "    A = U * D1 * H\n",
        "    B = V * D2 * H\n",
        "\n",
        "    return A, B\n",
        "end\n",
        "\n",
        "function Our_SVD(A,B)\n",
        "    bl,br,wl,wr,r = wire_size(A,B)\n",
        "    U, V, Q, D1, D2_julia, R0 = svd(A, B)\n",
        "\n",
        "    P, D2_our = permutation(wr,r,br, D2_julia)\n",
        "    V_til = V * P #Changing variable to fix line changes in D2\n",
        "\n",
        "    #Selects D1_tilde and D2_tilde\n",
        "    D1_til = D1[bl+1:bl+r, bl+1:bl+r]\n",
        "    D2_til = D2_our[wr+1:wr+r, bl+1:bl+r]\n",
        "\n",
        "    H = R0 * Q'\n",
        "\n",
        "    return U, V_til, H, D1_til, D2_til, D1, D2_our, bl, br, wl, wr, r, P, V\n",
        "end\n",
        "\n",
        "function wire_size(A,B)\n",
        "    m,.. = size(A)\n",
        "    p,.. = size(B)\n",
        "    .., .., .., D1, D2, .. = svd(A, B)\n",
        "    ..,k_mais_l = size(D1)\n",
        "\n",
        "    #Counting k: D1 is a m-by-(k_mais_l) diagonal matrix with 1s in the first k entries,\n",
        "    k = 0\n",
        "    for i in 1:min(m, k_mais_l)\n",
        "        if D1[i, i] == 1\n",
        "            k += 1\n",
        "        else\n",
        "            k += 0\n",
        "        end\n",
        "    end\n",
        "\n",
        "    l = k_mais_l-k\n",
        "\n",
        "    #Counting r: D2 is a matrix whose upper-right l-by-l block is diagonal,\n",
        "    #   with the first r entries belonging to D2_til and the rest 1s.\n",
        "    r = 0\n",
        "    for i in 1:l\n",
        "        if D2[i, k+i] != 1\n",
        "            r += 1\n",
        "        else\n",
        "            r += 0\n",
        "        end\n",
        "    end\n",
        "\n",
        "    bl = k\n",
        "    br = l - r\n",
        "    wl = m - k - r\n",
        "    wr = p - l\n",
        "\n",
        "    return bl,br,wl,wr,r\n",
        "end\n",
        "\n",
        "function permutation(wr,r,br, D2_julia)\n",
        "    P = [zeros(r,wr)  I(r)        zeros(r,br);\n",
        "         zeros(br,wr) zeros(br,r) I(br);\n",
        "         I(wr)        zeros(wr,r) zeros(wr,br)]\n",
        "\n",
        "    P_til = [zeros(wr,r) zeros(wr,br) I(wr);\n",
        "             I(r)        zeros(r,br)  zeros(r,wr);\n",
        "             zeros(br,r) I(br)        zeros(br,wr)]\n",
        "\n",
        "    D2_our = P_til * D2_julia\n",
        "\n",
        "    return P, D2_our\n",
        "end"
      ],
      "metadata": {
        "colab": {
          "base_uri": "https://localhost:8080/"
        },
        "id": "o5jpuYuKB4VZ",
        "outputId": "a2034004-f6bf-4baa-dea9-4ab3ff6e58c6"
      },
      "execution_count": 42,
      "outputs": [
        {
          "output_type": "execute_result",
          "data": {
            "text/plain": [
              "permutation (generic function with 1 method)"
            ]
          },
          "metadata": {},
          "execution_count": 42
        }
      ]
    },
    {
      "cell_type": "code",
      "source": [
        "function op_switch(D1_til, D2_til, bl, br, wl, wr, r)\n",
        "    # Cria as novas matrizes de zeros com as dimensões corretas\n",
        "    D1_new = zeros(bl + r + wl, bl + r + wl)\n",
        "    D2_new = zeros(wr + r + br, bl + r + wl)\n",
        "\n",
        "    # Monta o novo D1\n",
        "    D1_new[1:bl, 1:bl] .= I(bl)                   # bloco identidade inicial\n",
        "    D1_new[bl+1:bl+r, bl+1:bl+r] .= D1_til         # bloco D1_til no meio\n",
        "    D1_new[bl+r+1:end, bl+r+1:end] .= I(wl)        # bloco identidade no final\n",
        "\n",
        "    # Monta o novo D2\n",
        "    D2_new[wr+1:wr+r, bl+1:bl+r] .= D2_til         # bloco D2_til no meio\n",
        "    # (resto de D2_new já é zero, não precisa fazer mais nada)\n",
        "\n",
        "    return D1_new, D2_new\n",
        "end\n"
      ],
      "metadata": {
        "colab": {
          "base_uri": "https://localhost:8080/"
        },
        "id": "gkhVjTxsOany",
        "outputId": "bf8e4a9c-f84d-4ffc-f45d-bda05e6e989d"
      },
      "execution_count": 43,
      "outputs": [
        {
          "output_type": "execute_result",
          "data": {
            "text/plain": [
              "op_switch (generic function with 2 methods)"
            ]
          },
          "metadata": {},
          "execution_count": 43
        }
      ]
    },
    {
      "cell_type": "code",
      "source": [
        "B = [0 1 0\n",
        "     0 0 1]\n",
        "\n",
        "A = [1 0 0\n",
        "     0 1 0]"
      ],
      "metadata": {
        "colab": {
          "base_uri": "https://localhost:8080/"
        },
        "id": "sEklF6c_VQjM",
        "outputId": "afef3cf8-1d85-4774-9ecf-a53fb336fac8"
      },
      "execution_count": 44,
      "outputs": [
        {
          "output_type": "execute_result",
          "data": {
            "text/plain": [
              "2×3 Matrix{Int64}:\n",
              " 1  0  0\n",
              " 0  1  0"
            ]
          },
          "metadata": {},
          "execution_count": 44
        }
      ]
    },
    {
      "cell_type": "code",
      "source": [
        "U, V_til, H, D1_til, D2_til, D1, D2_our, bl, br, wl, wr, r, P, V = Our_SVD(A,B)\n",
        "display(D1)\n",
        "display(D2_our)\n",
        "display(bl)\n",
        "display(wl)\n",
        "display(r)\n",
        "display(br)\n",
        "display(wr)"
      ],
      "metadata": {
        "colab": {
          "base_uri": "https://localhost:8080/",
          "height": 218
        },
        "id": "7FZuRQ1EVgzL",
        "outputId": "0f6ba302-09e0-407c-801b-5f5e99b64dbe"
      },
      "execution_count": 45,
      "outputs": [
        {
          "output_type": "display_data",
          "data": {
            "text/plain": [
              "2×3 Matrix{Float64}:\n",
              " 1.0  0.0       0.0\n",
              " 0.0  0.707107  0.0"
            ]
          },
          "metadata": {}
        },
        {
          "output_type": "display_data",
          "data": {
            "text/plain": [
              "2×3 Matrix{Float64}:\n",
              " 0.0  0.707107  0.0\n",
              " 0.0  0.0       1.0"
            ]
          },
          "metadata": {}
        },
        {
          "output_type": "display_data",
          "data": {
            "text/plain": [
              "1"
            ]
          },
          "metadata": {}
        },
        {
          "output_type": "display_data",
          "data": {
            "text/plain": [
              "0"
            ]
          },
          "metadata": {}
        },
        {
          "output_type": "display_data",
          "data": {
            "text/plain": [
              "1"
            ]
          },
          "metadata": {}
        },
        {
          "output_type": "display_data",
          "data": {
            "text/plain": [
              "1"
            ]
          },
          "metadata": {}
        },
        {
          "output_type": "display_data",
          "data": {
            "text/plain": [
              "0"
            ]
          },
          "metadata": {}
        }
      ]
    },
    {
      "cell_type": "code",
      "source": [
        "D1_new, D2_new =  op_switch(D1_til, D2_til, D1, D2_our, bl, br, wl, wr, r)\n",
        "#display(D1)\n",
        "display(D1_new)\n",
        "\n",
        "#display(D2_our)\n",
        "display(D2_new)\n",
        "\n",
        "display(D2_new*inv(D1_new))"
      ],
      "metadata": {
        "colab": {
          "base_uri": "https://localhost:8080/",
          "height": 181
        },
        "id": "m-7Zs0_VV86C",
        "outputId": "5661de62-1fc8-4822-a8e1-6756d6006234"
      },
      "execution_count": 49,
      "outputs": [
        {
          "output_type": "display_data",
          "data": {
            "text/plain": [
              "2×2 Matrix{Float64}:\n",
              " 1.0  0.0\n",
              " 0.0  0.707107"
            ]
          },
          "metadata": {}
        },
        {
          "output_type": "display_data",
          "data": {
            "text/plain": [
              "2×2 Matrix{Float64}:\n",
              " 0.0  0.707107\n",
              " 0.0  0.0"
            ]
          },
          "metadata": {}
        },
        {
          "output_type": "display_data",
          "data": {
            "text/plain": [
              "2×2 Matrix{Float64}:\n",
              " 0.0  1.0\n",
              " 0.0  0.0"
            ]
          },
          "metadata": {}
        }
      ]
    },
    {
      "cell_type": "code",
      "source": [
        "function aprox(D1_til, D2_til, n)\n",
        "    # Faz cópias para não alterar as matrizes originais\n",
        "    D1_til_new = copy(D1_til)\n",
        "    D2_til_new = copy(D2_til)\n",
        "\n",
        "    # Altera os primeiros n elementos da diagonal\n",
        "    for i in 1:n\n",
        "        D1_til_new[i, i] = 1\n",
        "        D2_til_new[i, i] = 0\n",
        "    end\n",
        "\n",
        "    return D1_til_new, D2_til_new\n",
        "end\n",
        "\n",
        "function op_aprox(D1_til, D2_til, bl, br, wl, wr, r, n)\n",
        "    D1_new = zeros(bl + r + wl, bl + r + wl)\n",
        "    D2_new = zeros(wr + r + br, bl + r + wl)\n",
        "\n",
        "    D1_til_aprox, D2_til_aprox = aprox(D1_til, D2_til, n)\n",
        "\n",
        "    # Monta o novo D1\n",
        "    D1_new[1:bl, 1:bl] .= I(bl)\n",
        "    D1_new[bl+1:bl+r, bl+1:bl+r] .= D1_til_aprox\n",
        "\n",
        "    if wl > 0\n",
        "        D1_new[bl+r+1:end, bl+r+1:end] .= I(wl)\n",
        "    end\n",
        "\n",
        "    # Monta o novo D2\n",
        "    D2_new[wr+1:wr+r, bl+1:bl+r] .= D2_til_aprox\n",
        "    # (o resto já é zero)\n",
        "\n",
        "    return D1_new, D2_new\n",
        "end\n",
        "\n"
      ],
      "metadata": {
        "colab": {
          "base_uri": "https://localhost:8080/"
        },
        "id": "jp7LWRBq_EVC",
        "outputId": "2a5b212d-505f-4868-c5a5-5c83ecf3ff0a"
      },
      "execution_count": 60,
      "outputs": [
        {
          "output_type": "execute_result",
          "data": {
            "text/plain": [
              "op_aprox (generic function with 2 methods)"
            ]
          },
          "metadata": {},
          "execution_count": 60
        }
      ]
    },
    {
      "cell_type": "code",
      "source": [
        "D1_aprox, D2_aprox = op_aprox(D1_new, D2_new, bl, br, wl, wr, r, 1)\n",
        "display(D1_aprox)\n",
        "\n"
      ],
      "metadata": {
        "colab": {
          "base_uri": "https://localhost:8080/",
          "height": 347
        },
        "id": "8noWwi9rJ7uJ",
        "outputId": "7226516d-73b5-4c2f-d4e3-e9d045b85d35"
      },
      "execution_count": 61,
      "outputs": [
        {
          "output_type": "error",
          "ename": "LoadError",
          "evalue": "DimensionMismatch: array could not be broadcast to match destination",
          "traceback": [
            "DimensionMismatch: array could not be broadcast to match destination",
            "",
            "Stacktrace:",
            " [1] check_broadcast_shape",
            "   @ ./broadcast.jl:579 [inlined]",
            " [2] check_broadcast_axes",
            "   @ ./broadcast.jl:582 [inlined]",
            " [3] instantiate",
            "   @ ./broadcast.jl:309 [inlined]",
            " [4] materialize!",
            "   @ ./broadcast.jl:914 [inlined]",
            " [5] materialize!",
            "   @ ./broadcast.jl:911 [inlined]",
            " [6] op_aprox(D1_til::Matrix{Float64}, D2_til::Matrix{Float64}, bl::Int64, br::Int64, wl::Int64, wr::Int64, r::Int64, n::Int64)",
            "   @ Main ./In[60]:23",
            " [7] top-level scope",
            "   @ In[61]:1"
          ]
        }
      ]
    }
  ]
}