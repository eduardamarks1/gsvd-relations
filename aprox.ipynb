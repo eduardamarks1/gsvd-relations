{
  "nbformat": 4,
  "nbformat_minor": 0,
  "metadata": {
    "colab": {
      "provenance": []
    },
    "kernelspec": {
      "name": "julia",
      "display_name": "Julia"
    },
    "language_info": {
      "name": "julia"
    }
  },
  "cells": [
    {
      "cell_type": "code",
      "source": [
        "%%shell\n",
        "set -e\n",
        "\n",
        "#---------------------------------------------------#\n",
        "JULIA_VERSION=\"1.8.2\" # any version ≥ 0.7.0\n",
        "JULIA_PACKAGES=\"IJulia BenchmarkTools\"\n",
        "JULIA_PACKAGES_IF_GPU=\"CUDA\" # or CuArrays for older Julia versions\n",
        "JULIA_NUM_THREADS=2\n",
        "#---------------------------------------------------#\n",
        "\n",
        "if [ -z `which julia` ]; then\n",
        "  # Install Julia\n",
        "  JULIA_VER=`cut -d '.' -f -2 <<< \"$JULIA_VERSION\"`\n",
        "  echo \"Installing Julia $JULIA_VERSION on the current Colab Runtime...\"\n",
        "  BASE_URL=\"https://julialang-s3.julialang.org/bin/linux/x64\"\n",
        "  URL=\"$BASE_URL/$JULIA_VER/julia-$JULIA_VERSION-linux-x86_64.tar.gz\"\n",
        "  wget -nv $URL -O /tmp/julia.tar.gz # -nv means \"not verbose\"\n",
        "  tar -x -f /tmp/julia.tar.gz -C /usr/local --strip-components 1\n",
        "  rm /tmp/julia.tar.gz\n",
        "\n",
        "  # Install Packages\n",
        "  nvidia-smi -L &> /dev/null && export GPU=1 || export GPU=0\n",
        "  if [ $GPU -eq 1 ]; then\n",
        "    JULIA_PACKAGES=\"$JULIA_PACKAGES $JULIA_PACKAGES_IF_GPU\"\n",
        "  fi\n",
        "  for PKG in `echo $JULIA_PACKAGES`; do\n",
        "    echo \"Installing Julia package $PKG...\"\n",
        "    julia -e 'using Pkg; pkg\"add '$PKG'; precompile;\"' &> /dev/null\n",
        "  done\n",
        "\n",
        "  # Install kernel and rename it to \"julia\"\n",
        "  echo \"Installing IJulia kernel...\"\n",
        "  julia -e 'using IJulia; IJulia.installkernel(\"julia\", env=Dict(\n",
        "      \"JULIA_NUM_THREADS\"=>\"'\"$JULIA_NUM_THREADS\"'\"))'\n",
        "  KERNEL_DIR=`julia -e \"using IJulia; print(IJulia.kerneldir())\"`\n",
        "  KERNEL_NAME=`ls -d \"$KERNEL_DIR\"/julia*`\n",
        "  mv -f $KERNEL_NAME \"$KERNEL_DIR\"/julia\n",
        "\n",
        "  echo ''\n",
        "  echo \"Successfully installed `julia -v`!\"\n",
        "  echo \"Please reload this page (press Ctrl+R, ⌘+R, or the F5 key) then\"\n",
        "  echo \"jump to the 'Checking the Installation' section.\"\n",
        "fi"
      ],
      "metadata": {
        "id": "Y5dG-usaDPWN",
        "colab": {
          "base_uri": "https://localhost:8080/",
          "height": 155
        },
        "outputId": "ea6391a3-35f3-4ca3-9ec6-5ee20131c27a"
      },
      "execution_count": 3,
      "outputs": [
        {
          "output_type": "display_data",
          "data": {
            "text/plain": [
              "  Unrecognized magic \u001b[36m%%shell\u001b[39m.\n",
              "\n",
              "  Julia does not use the IPython \u001b[36m%magic\u001b[39m syntax. To interact with the IJulia\n",
              "  kernel, use \u001b[36mIJulia.somefunction(...)\u001b[39m, for example. Julia macros, string\n",
              "  macros, and functions can be used to accomplish most of the other\n",
              "  functionalities of IPython magics."
            ],
            "text/markdown": "Unrecognized magic `%%shell`.\n\nJulia does not use the IPython `%magic` syntax.   To interact with the IJulia kernel, use `IJulia.somefunction(...)`, for example.  Julia macros, string macros, and functions can be used to accomplish most of the other functionalities of IPython magics.\n",
            "text/latex": "Unrecognized magic \\texttt{\\%\\%shell}.\n\nJulia does not use the IPython \\texttt{\\%magic} syntax.   To interact with the IJulia kernel, use \\texttt{IJulia.somefunction(...)}, for example.  Julia macros, string macros, and functions can be used to accomplish most of the other functionalities of IPython magics.\n\n"
          },
          "metadata": {}
        },
        {
          "output_type": "display_data",
          "data": {
            "text/plain": [
              "  Unrecognized magic \u001b[36m%%shell\u001b[39m.\n",
              "\n",
              "  Julia does not use the IPython \u001b[36m%magic\u001b[39m syntax. To interact with the IJulia\n",
              "  kernel, use \u001b[36mIJulia.somefunction(...)\u001b[39m, for example. Julia macros, string\n",
              "  macros, and functions can be used to accomplish most of the other\n",
              "  functionalities of IPython magics."
            ],
            "text/markdown": "Unrecognized magic `%%shell`.\n\nJulia does not use the IPython `%magic` syntax.   To interact with the IJulia kernel, use `IJulia.somefunction(...)`, for example.  Julia macros, string macros, and functions can be used to accomplish most of the other functionalities of IPython magics.\n",
            "text/latex": "Unrecognized magic \\texttt{\\%\\%shell}.\n\nJulia does not use the IPython \\texttt{\\%magic} syntax.   To interact with the IJulia kernel, use \\texttt{IJulia.somefunction(...)}, for example.  Julia macros, string macros, and functions can be used to accomplish most of the other functionalities of IPython magics.\n\n"
          },
          "metadata": {}
        }
      ]
    },
    {
      "cell_type": "code",
      "execution_count": 44,
      "metadata": {
        "colab": {
          "base_uri": "https://localhost:8080/",
          "height": 1000
        },
        "id": "Z2KEM1tSDJP8",
        "outputId": "794dda9a-c478-4cc2-de0d-b674107bb22a"
      },
      "outputs": [
        {
          "output_type": "stream",
          "name": "stdout",
          "text": [
            "Parâmetros de Geração: m=5, p=5, n_cols_AB=3\n",
            "Blocos: bl=1, br=0, wl=2, wr=3, r=2\n",
            "\n",
            "--- Gerando Dados para: Perfeito com Ruído ---\n",
            "Matriz H:\n"
          ]
        },
        {
          "output_type": "display_data",
          "data": {
            "text/plain": [
              "3×3 Matrix{Float64}:\n",
              "  0.437396   0.878324   0.51418\n",
              "  0.730487  -0.0466856  1.62741\n",
              " -0.877449   0.809242   0.462208"
            ]
          },
          "metadata": {}
        },
        {
          "output_type": "stream",
          "name": "stdout",
          "text": [
            "D1_til usado na geração (Perfeito):\n"
          ]
        },
        {
          "output_type": "display_data",
          "data": {
            "text/plain": [
              "2×2 Diagonal{Float64, Vector{Float64}}:\n",
              " 0.707107   ⋅ \n",
              "  ⋅        0.707107"
            ]
          },
          "metadata": {}
        },
        {
          "output_type": "stream",
          "name": "stdout",
          "text": [
            "D2_til usado na geração (Perfeito):\n"
          ]
        },
        {
          "output_type": "display_data",
          "data": {
            "text/plain": [
              "2×2 Diagonal{Float64, Vector{Float64}}:\n",
              " 0.707107   ⋅ \n",
              "  ⋅        0.707107"
            ]
          },
          "metadata": {}
        },
        {
          "output_type": "stream",
          "name": "stdout",
          "text": [
            "\n",
            "Sanity Check:\n",
            "‖A - U·D1·H‖ = 6.3726e-16\n",
            "Erro relativo = 3.2710e-16\n",
            "‖B - V·D2·H‖ = 1.3839e-15\n",
            "Erro relativo = 8.6541e-16\n",
            "\n",
            "--- Executando Teste para: Perfeito com Ruído ---\n",
            "Usando limiares de ângulo: [30.0, 60.0] graus, Ângulo alvo para manter: 45.0 graus.\n",
            "Matriz A (Entrada):\n"
          ]
        },
        {
          "output_type": "display_data",
          "data": {
            "text/plain": [
              "5×3 Matrix{Float64}:\n",
              " -0.477628   -0.408102  -0.474751\n",
              "  0.129438    0.688635  -0.134255\n",
              " -0.0232654  -0.492104  -0.993686\n",
              " -0.809881    0.266287  -0.566252\n",
              "  0.1634     -0.401636  -0.448226"
            ]
          },
          "metadata": {}
        },
        {
          "output_type": "stream",
          "name": "stdout",
          "text": [
            "Matriz B (Entrada):\n"
          ]
        },
        {
          "output_type": "display_data",
          "data": {
            "text/plain": [
              "5×3 Matrix{Float64}:\n",
              "  0.792475   -0.435666    0.444155\n",
              "  0.133103   -0.0330718  -0.0347881\n",
              " -0.185497    0.149484   -0.185002\n",
              " -0.294231    0.0708007  -0.102829\n",
              "  0.0584103   0.331489    1.10257"
            ]
          },
          "metadata": {}
        },
        {
          "output_type": "stream",
          "name": "stdout",
          "text": [
            "D1 (Recuperado por Our_SVD):\n"
          ]
        },
        {
          "output_type": "display_data",
          "data": {
            "text/plain": [
              "5×3 Matrix{Float64}:\n",
              " 0.695976  0.0       0.0\n",
              " 0.0       0.728641  0.0\n",
              " 0.0       0.0       0.989829\n",
              " 0.0       0.0       0.0\n",
              " 0.0       0.0       0.0"
            ]
          },
          "metadata": {}
        },
        {
          "output_type": "stream",
          "name": "stdout",
          "text": [
            "D2 (Recuperado por Our_SVD):\n"
          ]
        },
        {
          "output_type": "display_data",
          "data": {
            "text/plain": [
              "5×3 Matrix{Float64}:\n",
              " 0.0       0.0       0.0\n",
              " 0.0       0.0       0.0\n",
              " 0.718065  0.0       0.0\n",
              " 0.0       0.684896  0.0\n",
              " 0.0       0.0       0.142266"
            ]
          },
          "metadata": {}
        },
        {
          "output_type": "stream",
          "name": "stdout",
          "text": [
            "Parâmetros de bloco recuperados: bl=0, br=0, wl=2, wr=2, r=3\n",
            "D1_switch (reconstrução -- troca de cor):\n"
          ]
        },
        {
          "output_type": "display_data",
          "data": {
            "text/plain": [
              "5×5 Matrix{Float64}:\n",
              " 0.695976  0.0       0.0       0.0  0.0\n",
              " 0.0       0.728641  0.0       0.0  0.0\n",
              " 0.0       0.0       0.989829  0.0  0.0\n",
              " 0.0       0.0       0.0       1.0  0.0\n",
              " 0.0       0.0       0.0       0.0  1.0"
            ]
          },
          "metadata": {}
        },
        {
          "output_type": "stream",
          "name": "stdout",
          "text": [
            "D2_switch (reconstrução -- troca de cor):\n"
          ]
        },
        {
          "output_type": "display_data",
          "data": {
            "text/plain": [
              "5×5 Matrix{Float64}:\n",
              " 0.0       0.0       0.0       0.0  0.0\n",
              " 0.0       0.0       0.0       0.0  0.0\n",
              " 0.718065  0.0       0.0       0.0  0.0\n",
              " 0.0       0.684896  0.0       0.0  0.0\n",
              " 0.0       0.0       0.142266  0.0  0.0"
            ]
          },
          "metadata": {}
        },
        {
          "output_type": "stream",
          "name": "stdout",
          "text": [
            "D1_new (após aproximação e reconstrução):\n"
          ]
        },
        {
          "output_type": "display_data",
          "data": {
            "text/plain": [
              "5×5 Matrix{Float64}:\n",
              " 0.707107  0.0       0.0  0.0  0.0\n",
              " 0.0       0.707107  0.0  0.0  0.0\n",
              " 0.0       0.0       1.0  0.0  0.0\n",
              " 0.0       0.0       0.0  1.0  0.0\n",
              " 0.0       0.0       0.0  0.0  1.0"
            ]
          },
          "metadata": {}
        },
        {
          "output_type": "stream",
          "name": "stdout",
          "text": [
            "D2_new (após aproximação e reconstrução):\n"
          ]
        },
        {
          "output_type": "display_data",
          "data": {
            "text/plain": [
              "5×5 Matrix{Float64}:\n",
              " 0.0       0.0       0.0  0.0  0.0\n",
              " 0.0       0.0       0.0  0.0  0.0\n",
              " 0.707107  0.0       0.0  0.0  0.0\n",
              " 0.0       0.707107  0.0  0.0  0.0\n",
              " 0.0       0.0       0.0  0.0  0.0"
            ]
          },
          "metadata": {}
        },
        {
          "output_type": "stream",
          "name": "stdout",
          "text": [
            "T_approx:\n"
          ]
        },
        {
          "output_type": "display_data",
          "data": {
            "text/plain": [
              "5×5 Matrix{Float64}:\n",
              " 0.0  0.0  0.0  0.0  0.0\n",
              " 0.0  0.0  0.0  0.0  0.0\n",
              " 1.0  0.0  0.0  0.0  0.0\n",
              " 0.0  1.0  0.0  0.0  0.0\n",
              " 0.0  0.0  0.0  0.0  0.0"
            ]
          },
          "metadata": {}
        },
        {
          "output_type": "stream",
          "name": "stdout",
          "text": [
            "Q_estimated:\n"
          ]
        },
        {
          "output_type": "display_data",
          "data": {
            "text/plain": [
              "5×5 Matrix{Float64}:\n",
              " -0.240739   -0.23154      0.0770396  -0.812744    0.249159\n",
              " -0.023331    0.00861246   0.105578   -0.0975629   0.0843275\n",
              "  0.0715255   0.09273      0.0527442   0.226982   -0.0276344\n",
              "  0.0700802   0.0462023   -0.0894099   0.249426   -0.113618\n",
              " -0.0786698  -0.3397      -0.809073   -0.105761   -0.430298"
            ]
          },
          "metadata": {}
        },
        {
          "output_type": "stream",
          "name": "stdout",
          "text": [
            "A_transformed:\n"
          ]
        },
        {
          "output_type": "display_data",
          "data": {
            "text/plain": [
              "5×3 Matrix{Float64}:\n",
              "  0.782161   -0.415607    0.417362\n",
              "  0.102595   -0.0963516  -0.0775433\n",
              " -0.211731    0.0802532  -0.21496\n",
              " -0.245983    0.159268   -0.0409396\n",
              "  0.0277719   0.340984    1.13968"
            ]
          },
          "metadata": {}
        },
        {
          "output_type": "stream",
          "name": "stdout",
          "text": [
            "Erro de Aproximação Global (Norma de Frobenius ||B - A_transformed||): 0.1754\n",
            "\n",
            "Comparação Coluna a Coluna (Norma da Diferença):\n",
            "Coluna 1: 0.0707\n",
            "Coluna 2: 0.1308\n",
            "Coluna 3: 0.0930\n"
          ]
        },
        {
          "output_type": "display_data",
          "data": {
            "text/plain": [
              "5×5 Matrix{Float64}:\n",
              " -0.35333    -0.728146  -0.545918  -0.0648825   -0.2067\n",
              " -0.470452    0.164429   0.269172  -0.788914    -0.238326\n",
              "  0.289132   -0.204974   0.382937   0.16817     -0.836341\n",
              " -0.753793    0.196058   0.194897   0.587465    -0.101281\n",
              "  0.0450744   0.601926  -0.667004   0.00293958  -0.436751"
            ]
          },
          "metadata": {}
        },
        {
          "output_type": "stream",
          "name": "stdout",
          "text": [
            "\n",
            "[Comparação de Métodos]\n",
            "Erro Aproximação GSVD (Frobenius): 0.175382\n",
            "Erro Aproximação Procrustes Absoluto:      1.348593\n",
            "Erro Aproximação Procrustes Relativo:      1.577530\n",
            "Norma da diferença entre Q_GSVD e Q_Procrustes: 1.980178\n",
            "--- Fim do Teste: Perfeito com Ruído ---\n",
            "\n",
            "--- Gerando Dados para: Misto ---\n",
            "Matriz H:\n"
          ]
        },
        {
          "output_type": "display_data",
          "data": {
            "text/plain": [
              "3×3 Matrix{Float64}:\n",
              " 0.133565     1.03917    1.29585\n",
              " 0.781585    -0.0488254  1.27893\n",
              " 0.00144043  -0.0692303  1.4677"
            ]
          },
          "metadata": {}
        },
        {
          "output_type": "stream",
          "name": "stdout",
          "text": [
            "D1_til usado na geração (Misto):\n"
          ]
        },
        {
          "output_type": "display_data",
          "data": {
            "text/plain": [
              "2×2 Matrix{Float64}:\n",
              " 0.984808  0.0\n",
              " 0.0       0.866025"
            ]
          },
          "metadata": {}
        },
        {
          "output_type": "stream",
          "name": "stdout",
          "text": [
            "D2_til usado na geração (Misto):\n"
          ]
        },
        {
          "output_type": "display_data",
          "data": {
            "text/plain": [
              "2×2 Matrix{Float64}:\n",
              " 0.173648  0.0\n",
              " 0.0       0.5"
            ]
          },
          "metadata": {}
        },
        {
          "output_type": "stream",
          "name": "stdout",
          "text": [
            "\n",
            "Sanity Check:\n",
            "‖A - U·D1·H‖ = 2.0433e-15\n",
            "Erro relativo = 8.1030e-16\n",
            "‖B - V·D2·H‖ = 2.8597e-16\n",
            "Erro relativo = 4.1973e-16\n",
            "\n",
            "--- Executando Teste para: Misto ---\n",
            "Usando limiares de ângulo: [30.0, 60.0] graus, Ângulo alvo para manter: 45.0 graus.\n",
            "Matriz A (Entrada):\n"
          ]
        },
        {
          "output_type": "display_data",
          "data": {
            "text/plain": [
              "5×3 Matrix{Float64}:\n",
              " -0.226497   -0.359265    0.308209\n",
              " -0.0789663   0.0430343  -0.877323\n",
              "  0.328925   -0.153203    0.221236\n",
              "  0.660866    0.171255    1.51996\n",
              " -0.0198817  -1.03947    -1.12613"
            ]
          },
          "metadata": {}
        },
        {
          "output_type": "stream",
          "name": "stdout",
          "text": [
            "Matriz B (Entrada):\n"
          ]
        },
        {
          "output_type": "display_data",
          "data": {
            "text/plain": [
              "5×3 Matrix{Float64}:\n",
              " -0.0880406   0.061168   -0.0386433\n",
              " -0.0579346  -0.0801099   0.399644\n",
              " -0.0298154   0.0343365   0.24169\n",
              " -0.0288737   0.0517111  -0.397111\n",
              "  0.0307046   0.0546898   0.236852"
            ]
          },
          "metadata": {}
        },
        {
          "output_type": "stream",
          "name": "stdout",
          "text": [
            "D1 (Recuperado por Our_SVD):\n"
          ]
        },
        {
          "output_type": "display_data",
          "data": {
            "text/plain": [
              "5×3 Matrix{Float64}:\n",
              " 0.987293  0.0       0.0\n",
              " 0.0       0.996166  0.0\n",
              " 0.0       0.0       0.86938\n",
              " 0.0       0.0       0.0\n",
              " 0.0       0.0       0.0"
            ]
          },
          "metadata": {}
        },
        {
          "output_type": "stream",
          "name": "stdout",
          "text": [
            "D2 (Recuperado por Our_SVD):\n"
          ]
        },
        {
          "output_type": "display_data",
          "data": {
            "text/plain": [
              "5×3 Matrix{Float64}:\n",
              " 0.0       0.0        0.0\n",
              " 0.0       0.0        0.0\n",
              " 0.158908  0.0        0.0\n",
              " 0.0       0.0874802  0.0\n",
              " 0.0       0.0        0.494144"
            ]
          },
          "metadata": {}
        },
        {
          "output_type": "stream",
          "name": "stdout",
          "text": [
            "Parâmetros de bloco recuperados: bl=0, br=0, wl=2, wr=2, r=3\n",
            "D1_switch (reconstrução -- troca de cor):\n"
          ]
        },
        {
          "output_type": "display_data",
          "data": {
            "text/plain": [
              "5×5 Matrix{Float64}:\n",
              " 0.987293  0.0       0.0      0.0  0.0\n",
              " 0.0       0.996166  0.0      0.0  0.0\n",
              " 0.0       0.0       0.86938  0.0  0.0\n",
              " 0.0       0.0       0.0      1.0  0.0\n",
              " 0.0       0.0       0.0      0.0  1.0"
            ]
          },
          "metadata": {}
        },
        {
          "output_type": "stream",
          "name": "stdout",
          "text": [
            "D2_switch (reconstrução -- troca de cor):\n"
          ]
        },
        {
          "output_type": "display_data",
          "data": {
            "text/plain": [
              "5×5 Matrix{Float64}:\n",
              " 0.0       0.0        0.0       0.0  0.0\n",
              " 0.0       0.0        0.0       0.0  0.0\n",
              " 0.158908  0.0        0.0       0.0  0.0\n",
              " 0.0       0.0874802  0.0       0.0  0.0\n",
              " 0.0       0.0        0.494144  0.0  0.0"
            ]
          },
          "metadata": {}
        },
        {
          "output_type": "stream",
          "name": "stdout",
          "text": [
            "D1_new (após aproximação e reconstrução):\n"
          ]
        },
        {
          "output_type": "display_data",
          "data": {
            "text/plain": [
              "5×5 Matrix{Float64}:\n",
              " 1.0  0.0  0.0  0.0  0.0\n",
              " 0.0  1.0  0.0  0.0  0.0\n",
              " 0.0  0.0  1.0  0.0  0.0\n",
              " 0.0  0.0  0.0  1.0  0.0\n",
              " 0.0  0.0  0.0  0.0  1.0"
            ]
          },
          "metadata": {}
        },
        {
          "output_type": "stream",
          "name": "stdout",
          "text": [
            "D2_new (após aproximação e reconstrução):\n"
          ]
        },
        {
          "output_type": "display_data",
          "data": {
            "text/plain": [
              "5×5 Matrix{Float64}:\n",
              " 0.0  0.0  0.0  0.0  0.0\n",
              " 0.0  0.0  0.0  0.0  0.0\n",
              " 0.0  0.0  0.0  0.0  0.0\n",
              " 0.0  0.0  0.0  0.0  0.0\n",
              " 0.0  0.0  0.0  0.0  0.0"
            ]
          },
          "metadata": {}
        },
        {
          "output_type": "stream",
          "name": "stdout",
          "text": [
            "T_approx:\n"
          ]
        },
        {
          "output_type": "display_data",
          "data": {
            "text/plain": [
              "5×5 Matrix{Float64}:\n",
              " 0.0  0.0  0.0  0.0  0.0\n",
              " 0.0  0.0  0.0  0.0  0.0\n",
              " 0.0  0.0  0.0  0.0  0.0\n",
              " 0.0  0.0  0.0  0.0  0.0\n",
              " 0.0  0.0  0.0  0.0  0.0"
            ]
          },
          "metadata": {}
        },
        {
          "output_type": "stream",
          "name": "stdout",
          "text": [
            "Q_estimated:\n"
          ]
        },
        {
          "output_type": "display_data",
          "data": {
            "text/plain": [
              "5×5 Matrix{Float64}:\n",
              " 0.0  0.0  0.0  0.0  0.0\n",
              " 0.0  0.0  0.0  0.0  0.0\n",
              " 0.0  0.0  0.0  0.0  0.0\n",
              " 0.0  0.0  0.0  0.0  0.0\n",
              " 0.0  0.0  0.0  0.0  0.0"
            ]
          },
          "metadata": {}
        },
        {
          "output_type": "stream",
          "name": "stdout",
          "text": [
            "A_transformed:\n"
          ]
        },
        {
          "output_type": "display_data",
          "data": {
            "text/plain": [
              "5×3 Matrix{Float64}:\n",
              " 0.0  0.0  0.0\n",
              " 0.0  0.0  0.0\n",
              " 0.0  0.0  0.0\n",
              " 0.0  0.0  0.0\n",
              " 0.0  0.0  0.0"
            ]
          },
          "metadata": {}
        },
        {
          "output_type": "stream",
          "name": "stdout",
          "text": [
            "Erro de Aproximação Global (Norma de Frobenius ||B - A_transformed||): 0.6813\n",
            "\n",
            "Comparação Coluna a Coluna (Norma da Diferença):\n",
            "Coluna 1: 0.1174\n",
            "Coluna 2: 0.1304\n",
            "Coluna 3: 0.6583\n"
          ]
        },
        {
          "output_type": "display_data",
          "data": {
            "text/plain": [
              "5×5 Matrix{Float64}:\n",
              "  0.322077    0.786354   -0.281614   -0.429356   0.119413\n",
              "  0.241746   -0.172751   -0.801202    0.458397   0.24426\n",
              "  0.0027772  -0.514912   -0.373603   -0.748249  -0.188157\n",
              " -0.668837    0.0418322  -0.0880325  -0.167775   0.717641\n",
              " -0.624879    0.29141    -0.362546    0.132291  -0.612916"
            ]
          },
          "metadata": {}
        },
        {
          "output_type": "stream",
          "name": "stdout",
          "text": [
            "\n",
            "[Comparação de Métodos]\n",
            "Erro Aproximação GSVD (Frobenius): 0.681319\n",
            "Erro Aproximação Procrustes Absoluto:      2.307552\n",
            "Erro Aproximação Procrustes Relativo:      2.279465\n",
            "Norma da diferença entre Q_GSVD e Q_Procrustes: 2.236068\n",
            "--- Fim do Teste: Misto ---\n"
          ]
        }
      ],
      "source": [
        "using Printf\n",
        "using LinearAlgebra\n",
        "\n",
        "#=\n",
        "Make_D1_D2\n",
        "\n",
        "ENTRADA:bl::Int, br::Int, wl::Int, wr::Int, r::Int, D1_til::DiagonalMatrix,\n",
        "D2_til::DiagonalMatrix\n",
        "\n",
        "OBJETIVO:: Construir as matrizes D1 e D2 do GSVD com base na estrutura de\n",
        "blocos definida por bl, br, wl, wr, r e as matrizes \"centrais\" D1_til e\n",
        "D2_til.\n",
        "\n",
        "SAÍDA: D1::Matrix, D2::Matrix\n",
        "\n",
        "=#\n",
        "\n",
        "function Make_D1_D2(bl,br,wl,wr,r, D1_til, D2_til)\n",
        "    D1= [I(bl)        zeros(bl,r) zeros(bl,br);\n",
        "         zeros(r,bl)  D1_til      zeros(r,br);\n",
        "         zeros(wl,bl) zeros(wl,r) zeros(wl,br)]\n",
        "\n",
        "    #D2 in our format\n",
        "    D2= [zeros(wr,bl) zeros(wr,r) zeros(wr,br);\n",
        "         zeros(r,bl)  D2_til      zeros(r,br);\n",
        "         zeros(br,bl) zeros(br,r) I(br)]\n",
        "\n",
        "    return D1, D2\n",
        "end\n",
        "\n",
        "#=\n",
        "Make_A_B\n",
        "\n",
        "ENTRADA:bl::Int, br::Int, wl::Int, wr::Int, r::Int, D1_til::Matrix,\n",
        "D2_til::Matrix, H::Matrix, U::Matrix, V::Matrix\n",
        "\n",
        "OBJETIVO:: Construir A e B com base na decomposição produzida pelo GSVD com base na estrutura de\n",
        "blocos definida por bl, br, wl, wr, r e as matrizes \"centrais\" D1_til e\n",
        "D2_til (para criar D1 e D2) e H (sobrejetiva), U e V (ortogonais) para criar A e B.\n",
        "\n",
        "SAÍDA: A::Matrix, B::Matrix\n",
        "\n",
        "=#\n",
        "\n",
        "function Make_A_B(bl,br,wl,wr,r,D1_til,D2_til,H,U,V)\n",
        "    D1,D2 = Make_D1_D2(bl,br,wl,wr,r, D1_til, D2_til)\n",
        "\n",
        "    A = U * D1 * H\n",
        "    B = V * D2 * H\n",
        "\n",
        "    return A, B\n",
        "end\n",
        "\n",
        "#=\n",
        "Our_SVD\n",
        "\n",
        "ENTRADA: A::Matrix, B::Matrix\n",
        "\n",
        "OBJETIVO:: Decompor A e B usando GSVD modificado, pois D2 que o Julia retorna em svd(A,B) não\n",
        "está blocado da forma que definimos em Make_D1_D2. Para isso, é utilizada a matriz de permutação P que produz V_til. D2_our é a D2 no nosso formato blocado.\n",
        "Por esse motivo, JAMAIS USE D2 RETORNADA DIRETAMENTE PELO JULIA SEM FAZER ESSA PERMUTAÇÃO.\n",
        "\n",
        "SAÍDA: U::Matrix, V_til::Matrix, H::Matrix, D1_til::Matrix, D2_til::Matrix, D1::Matrix, D2_our::Matrix, bl::Int, br::Int, wl::Int, wr::Int, r::Int, P::Matrix, V::Matrix\n",
        "\n",
        "=#\n",
        "\n",
        "function Our_SVD(A,B)\n",
        "    bl,br,wl,wr,r = wire_size(A,B)\n",
        "    U, V, Q, D1, D2_julia, R0 = svd(A, B)\n",
        "\n",
        "    P, D2_our = permutation(wr,r,br, D2_julia)\n",
        "    V_til = V * P #Changing variable to fix line changes in D2\n",
        "\n",
        "    #Selects D1_tilde and D2_tilde\n",
        "    D1_til = D1[bl+1:bl+r, bl+1:bl+r]\n",
        "    D2_til = D2_our[wr+1:wr+r, bl+1:bl+r]\n",
        "\n",
        "    H = R0 * Q'\n",
        "\n",
        "    return U, V_til, H, D1_til, D2_til, D1, D2_our, bl, br, wl, wr, r, P, V\n",
        "end\n",
        "\n",
        "#=\n",
        "TO DO: Tirar dúvidas com a Júlia sobre as funções wire_size e permutation\n",
        "=#\n",
        "function wire_size(A,B)\n",
        "    m,.. = size(A)\n",
        "    p,.. = size(B)\n",
        "    .., .., .., D1, D2, .. = svd(A, B)\n",
        "    ..,k_mais_l = size(D1)\n",
        "\n",
        "    #Counting k: D1 is a m-by-(k_mais_l) diagonal matrix with 1s in the first k entries,\n",
        "    k = 0\n",
        "    for i in 1:min(m, k_mais_l)\n",
        "        if D1[i, i] == 1\n",
        "            k += 1\n",
        "        else\n",
        "            k += 0\n",
        "        end\n",
        "    end\n",
        "\n",
        "    l = k_mais_l-k\n",
        "\n",
        "    #Counting r: D2 is a matrix whose upper-right l-by-l block is diagonal,\n",
        "    #   with the first r entries belonging to D2_til and the rest 1s.\n",
        "    r = 0\n",
        "    for i in 1:l\n",
        "        if D2[i, k+i] != 1\n",
        "            r += 1\n",
        "        else\n",
        "            r += 0\n",
        "        end\n",
        "    end\n",
        "\n",
        "    bl = k\n",
        "    br = l - r\n",
        "    wl = m - k - r\n",
        "    wr = p - l\n",
        "\n",
        "    return bl,br,wl,wr,r\n",
        "end\n",
        "\n",
        "function permutation(wr,r,br, D2_julia)\n",
        "    P = [zeros(r,wr)  I(r)        zeros(r,br);\n",
        "         zeros(br,wr) zeros(br,r) I(br);\n",
        "         I(wr)        zeros(wr,r) zeros(wr,br)]\n",
        "\n",
        "    P_til = [zeros(wr,r) zeros(wr,br) I(wr);\n",
        "             I(r)        zeros(r,br)  zeros(r,wr);\n",
        "             zeros(br,r) I(br)        zeros(br,wr)]\n",
        "\n",
        "    D2_our = P_til * D2_julia\n",
        "\n",
        "    return P, D2_our\n",
        "end\n",
        "\n",
        "#=\n",
        "op_switch\n",
        "\n",
        "ENTRADA: D1_til::Matrix, D2_til::Matrix,bl::Int, br::Int, wl::Int, wr::Int, r::Int\n",
        "\n",
        "OBJETIVO:: Realiza a operação correspondente à \"troca de cor\" feita em GLA, responsável\n",
        "por tornar D1 inversível, fazendo com que a matriz inverta o lado em GLA, tornando a expressão toda uma função.\n",
        "Isso é feito, em código, ao criar D1_new e D2_new com as dimensões corretas depois da transformação, pois em D1 ws, br viram wl.\n",
        "Em D2, br da coluna vira wl.\n",
        "\n",
        "SAÍDA: D1_new::Matrix, D2_new::Matrix (blocadas de forma que D1 é inversível e tem só 1's e D2 tem todos os 0's)\n",
        "\n",
        "=#\n",
        "\n",
        "function op_switch(D1_til, D2_til, bl, br, wl, wr, r)\n",
        "    D1_new = zeros(bl + r + wl, bl + r + wl)\n",
        "    D2_new = zeros(wr + r + br, bl + r + wl)\n",
        "\n",
        "    D1_new[1:bl, 1:bl] .= I(bl)\n",
        "    D1_new[bl+1:bl+r, bl+1:bl+r] .= D1_til\n",
        "    D1_new[bl+r+1:end, bl+r+1:end] .= I(wl)\n",
        "\n",
        "    D2_new[wr+1:wr+r, bl+1:bl+r] .= D2_til\n",
        "\n",
        "    return D1_new, D2_new\n",
        "end\n",
        "\n",
        "\n",
        "#=\n",
        "aprox_by_angle\n",
        "\n",
        "ENTRADA: D1_til::Matrix, D2_til::Matrix, angle_lower::Float64, angle_upper::Float64, target_angle_for_keeping::Float64\n",
        "\n",
        "OBJETIVO: Modificar as matrizes \"centrais\" D1_til e D2_til com base em limites\n",
        "de ângulo. Os elementos correspondentes aos ângulos (calculados a partir dos elementos de\n",
        "D1_til e D2_til) que caem dentro da faixa [angle_lower,angle_upper] são ajustados para target_angle_for_keeping (45 graus). Elementos fora do intervalo são ajustados para representar um descarte\n",
        "(c_i=1, s_i=0). Isso corresponde à reduzir a dimensionalidade, pois estaremos desconsiderando os vetores de U e V associados à esses ângulos descartados.\n",
        "\n",
        "SAÍDA: D1_vec_aprox::DiagonalMatrix, Diagonal::DiagonalMatrix.\n",
        "\n",
        "=#\n",
        "\n",
        "\n",
        "function aprox_by_angle(D1_til, D2_til, angle_lower::Float64, angle_upper::Float64, target_angle_for_keeping::Float64)\n",
        "    # validações para os ângulos escolhidos pelo usuário\n",
        "    if size(D1_til) != size(D2_til); error(\"D1_til e D2_til devem ter as mesmas dimensões\"); end\n",
        "    if !(0.0 <= angle_lower && angle_upper <= 90.0); error(\"Limiares de ângulo inválidos. Deve ser 0 <= lower <= upper <= 90.\"); end\n",
        "    if !(0.0 <= target_angle_for_keeping <= 90.0); error(\"Ângulo alvo inválido.\"); end\n",
        "\n",
        "    r_val = size(D1_til, 1) # pega a quantidade de ângulos que temos (valor de r)\n",
        "    if r_val == 0; return Diagonal(zeros(Float64,0)), Diagonal(zeros(Float64,0)); end\n",
        "\n",
        "    D1_vec_aprox = zeros(Float64, r_val)\n",
        "    D2_vec_aprox = zeros(Float64, r_val)\n",
        "\n",
        "    target_angle_rad = deg2rad(target_angle_for_keeping) # geralmente target_angle_for_keeping é 45 graus\n",
        "    cos_target = cos(target_angle_rad)\n",
        "    sin_target = sin(target_angle_rad)\n",
        "\n",
        "    for i in 1:r_val\n",
        "        c = D1_til[i,i]\n",
        "        s = D2_til[i,i]\n",
        "        angle_rad = atan(s, c)\n",
        "        angle_deg = rad2deg(angle_rad)\n",
        "\n",
        "        #println(\"aprox_by_angle: Comp $i, c=$c, s=$s, ang_deg=$angle_deg\")\n",
        "        # se tá dentro do intervalo\n",
        "        if angle_deg >= angle_lower && angle_deg <= angle_upper\n",
        "            D1_vec_aprox[i] = cos_target\n",
        "            D2_vec_aprox[i] = sin_target\n",
        "        # se não tá\n",
        "        else\n",
        "            D1_vec_aprox[i] = 1.0 # para descarte, T_ii = 0\n",
        "            D2_vec_aprox[i] = 0.0\n",
        "        end\n",
        "    end\n",
        "    return Diagonal(D1_vec_aprox), Diagonal(D2_vec_aprox)\n",
        "end\n",
        "\n",
        "#=\n",
        "op_aprox_by_angle\n",
        "\n",
        "ENTRADA: D1_til_gsvd::Matrix, D2_til_gsvd::Matrix, D1_structural_template::Matrix, D2_structural_template::Matrix, bl::Int, br::Int, wl::Int, wr::Int, r_val::Int, angle_lower::Float64, angle_upper::Float64, target_angle_for_keeping::Float64\n",
        "\n",
        "OBJETIVO: Gerenciar o processo de aproximação. Ela chama aprox_by_angle\n",
        "para obter D1_til_aprox, D2_til_aprox e depois usa sua função op_switch para construir as matrizes D1_new e D2_new finais.\n",
        "\n",
        "SAÍDA: D1_new::Matrix, D2_new::Matrix\n",
        "\n",
        "=#\n",
        "\n",
        "function op_aprox_by_angle(D1_til_gsvd, D2_til_gsvd,\n",
        "                           D1_switch, D2_switch,\n",
        "                           bl::Int, br::Int, wl::Int, wr::Int, r_val::Int,\n",
        "                           angle_lower::Float64, angle_upper::Float64,\n",
        "                           target_angle_for_keeping::Float64)\n",
        "\n",
        "    # cria cópias das matrizes com a estrutura já depois do switch (quadrada e inversível)\n",
        "    D1_new = copy(D1_switch)\n",
        "    D2_new = copy(D2_switch)\n",
        "\n",
        "    if r_val > 0\n",
        "        # calcula os blocos centrais D1 e D2 _til aproximados\n",
        "        D1_til_aprox, D2_til_aprox = aprox_by_angle(D1_til_gsvd, D2_til_gsvd,\n",
        "                                                    angle_lower, angle_upper,\n",
        "                                                    target_angle_for_keeping)\n",
        "\n",
        "        # assegura que D1_til_aprox e D2_til_aprox são r_val x r_val\n",
        "        if size(D1_til_aprox) != (r_val, r_val) || size(D2_til_aprox) != (r_val, r_val)\n",
        "            error(\"Dimensões de D1_til_aprox ou D2_til_aprox não são r_val x r_val como esperado.\")\n",
        "        end\n",
        "\n",
        "        # insere os blocos _til aproximados nas posições corretas das cópias\n",
        "        # para D1_new, o bloco D1_til está em [bl+1 : bl+r_val, bl+1 : bl+r_val]\n",
        "        if bl + r_val <= size(D1_new, 1) && bl + r_val <= size(D1_new, 2)\n",
        "            D1_new[bl+1 : bl+r_val, bl+1 : bl+r_val] = D1_til_aprox\n",
        "        elseif r_val > 0\n",
        "             error(\"Dimensões de D1_new não comportam D1_til_aprox na posição esperada.\")\n",
        "        end\n",
        "\n",
        "        # Para D2_new, o bloco D2_til está em [wr+1 : wr+r_val, bl+1 : bl+r_val]\n",
        "        if wr + r_val <= size(D2_new, 1) && bl + r_val <= size(D2_new, 2)\n",
        "            D2_new[wr+1 : wr+r_val, bl+1 : bl+r_val] = D2_til_aprox\n",
        "        elseif r_val > 0\n",
        "            error(\"Dimensões de D2_new não comportam D2_til_aprox na posição esperada.\")\n",
        "        end\n",
        "    end\n",
        "    # Se r_val == 0, D1_new e D2_new já são as cópias de D1_switch e D2_switch,\n",
        "    # que devem estar corretas (sem blocos _til para modificar).\n",
        "\n",
        "    return D1_new, D2_new\n",
        "end\n",
        "\n",
        "#=\n",
        "generate_data_case\n",
        "\n",
        "ENTRADA: case_type::String, m_rows::Int, p_rows::Int, n_cols_H::Int, bl::Int, br::Int, wl::Int, wr::Int, r::Int, noise_level::Float64 = 0.01\n",
        "\n",
        "OBJETIVO: Gera as matrizes A e B a partir da construção \"simulada\" da decomposição GSVD. O tipo de dado gerado depende do parâmetro `case_type`:\n",
        "\n",
        "- \"Perfeito com Ruído\": gera D1_til e D2_til com todos os ângulos de 45° (i.e., componentes equilibrados entre A e B), e adiciona ruído gaussiano às matrizes A e B resultantes.\n",
        "- \"Misto\": gera D1_til e D2_til com alguns ângulos de 45° e outros diferentes (como 10°), simulando componentes com contribuições desbalanceadas entre A e B.\n",
        "\n",
        "As matrizes ortogonais U, V e a matriz sobrejetiva H também são geradas aleatoriamente com as dimensões para garantir a estrutura da decomposição A = U·D1·H e B = V·D2·H.\n",
        "\n",
        "SAÍDA: A::Matrix, B::Matrix\n",
        "\n",
        "=#\n",
        "\n",
        "\n",
        "function generate_data_case(case_type::String, m_rows::Int, p_rows::Int, n_cols_H::Int,\n",
        "                            bl::Int, br::Int, wl::Int, wr::Int, r::Int, noise_level::Float64 = 0.01)\n",
        "\n",
        "    println(\"\\n--- Gerando Dados para: $case_type ---\")\n",
        "\n",
        "    dim_U_cols = bl + r + wl\n",
        "    dim_V_cols = wr + r + br\n",
        "    dim_H_rows = bl + r + br\n",
        "\n",
        "    # gera U ortogonal\n",
        "    temp_U = randn(m_rows, dim_U_cols)\n",
        "    U_ortho = qr(temp_U).Q\n",
        "\n",
        "    # gera V ortogonal\n",
        "    temp_V = randn(p_rows, dim_V_cols)\n",
        "    V_ortho = qr(temp_V).Q\n",
        "\n",
        "    # (DÚVIDA): gera H sobrejetiva. Para ser sobrejetiva H tem que ter imagem igual à R^bl+r+br\n",
        "    H_matrix = randn(dim_H_rows, n_cols_H)\n",
        "    println(\"Matriz H:\"); display(H_matrix)\n",
        "\n",
        "\n",
        "    D1_til_gen = zeros(r, r)\n",
        "    D2_til_gen = zeros(r, r)\n",
        "\n",
        "    if case_type == \"Perfeito com Ruído\"\n",
        "        if r > 0\n",
        "            D1_til_gen = Diagonal(fill(cosd(45), r))\n",
        "            D2_til_gen = Diagonal(fill(sind(45), r))\n",
        "        end\n",
        "        println(\"D1_til usado na geração (Perfeito):\"); display(D1_til_gen)\n",
        "        println(\"D2_til usado na geração (Perfeito):\"); display(D2_til_gen)\n",
        "        A_gen, B_gen = Make_A_B(bl, br, wl, wr, r, D1_til_gen, D2_til_gen, H_matrix, U_ortho, V_ortho)\n",
        "        A_final = A_gen + noise_level * randn(size(A_gen))\n",
        "        B_final = B_gen + noise_level * randn(size(B_gen))\n",
        "\n",
        "    elseif case_type == \"Misto\"\n",
        "        if r >= 1\n",
        "            D1_til_gen[1,1] = cosd(10); D2_til_gen[1,1] = sind(10) # primeiro componente com ângulo de 45°\n",
        "        end\n",
        "        if r >= 2\n",
        "            D1_til_gen[2,2] = cosd(30); D2_til_gen[2,2] = sind(30) # segundo componente com ângulo de 10°\n",
        "        end\n",
        "        for i in 3:r\n",
        "            D1_til_gen[i,i] = cosd(45); D2_til_gen[i,i] = sind(45) # do terceiro em diante (se houver), todos com ângulo de 45°\n",
        "        end\n",
        "        println(\"D1_til usado na geração (Misto):\"); display(D1_til_gen)\n",
        "        println(\"D2_til usado na geração (Misto):\"); display(D2_til_gen)\n",
        "\n",
        "        A_final, B_final = Make_A_B(bl, br, wl, wr, r, D1_til_gen, D2_til_gen, H_matrix, U_ortho, V_ortho)\n",
        "\n",
        "        A_final += noise_level * randn(size(A_final))\n",
        "        B_final += noise_level * randn(size(B_final))\n",
        "\n",
        "    else\n",
        "        error(\"Tipo de caso desconhecido: $case_type\")\n",
        "    end\n",
        "\n",
        "      # (DÚVIDA): Sanity Check p/ ver se estamos gerando U,V,D1,D2,H corretamente\n",
        "      U, V_til, H, D1_til, D2_til, D1, D2_our, bl, br, wl, wr, r_val, P, V = Our_SVD(A_final, B_final)\n",
        "\n",
        "      # Reconstrói A e B a partir da decomposição\n",
        "      A_reconstructed = U * D1 * H\n",
        "      B_reconstructed = V_til * D2_our * H\n",
        "\n",
        "      # Compara norma da diferença\n",
        "      diff_norm_A = norm(A_final - A_reconstructed)\n",
        "      rel_error_A = diff_norm_A / norm(A_final)\n",
        "\n",
        "      diff_norm_B = norm(B_final - B_reconstructed)\n",
        "      rel_error_B = diff_norm_B / norm(B_final)\n",
        "\n",
        "      println(\"\\nSanity Check:\")\n",
        "      println(\"‖A - U·D1·H‖ = $(@sprintf(\"%.4e\", diff_norm_A))\")\n",
        "      println(\"Erro relativo = $(@sprintf(\"%.4e\", rel_error_A))\")\n",
        "      println(\"‖B - V·D2·H‖ = $(@sprintf(\"%.4e\", diff_norm_B))\")\n",
        "      println(\"Erro relativo = $(@sprintf(\"%.4e\", rel_error_B))\")\n",
        "\n",
        "    return A_final, B_final\n",
        "end\n",
        "\n",
        "#=\n",
        "run_test_aprox_by_angle_on_generated_data\n",
        "\n",
        "ENTRADA:\n",
        "- A::Matrix                          → Matriz A obtida a partir de `generate_data_case` (com ou sem ruído)\n",
        "- B::Matrix                          → Matriz B correspondente a A\n",
        "- test_case_name::String            → Nome descritivo do caso de teste (usado em logs/impressão)\n",
        "- angle_low::Float64                → Limite inferior do intervalo de ângulos a ser preservado (em graus)\n",
        "- angle_high::Float64               → Limite superior do intervalo de ângulos a ser preservado (em graus)\n",
        "- target_angle::Float64             → Ângulo (em graus) para o qual os componentes mantidos serão aproximados (ex.: 45°)\n",
        "\n",
        "OBJETIVO:\n",
        "Executa um teste completo de aproximação por ângulo sobre as matrizes A e B, envolvendo:\n",
        "\n",
        "- Recuperação da decomposição GSVD modificada por `Our_SVD`\n",
        "- Reconstrução das matrizes D1 e D2 com troca de cor via `op_switch`\n",
        "- Aplicação da função `op_aprox_by_angle` para modificar os ângulos centrais com base em um intervalo\n",
        "- Cálculo da transformação estimada  Q approx VtU'\n",
        "- Avaliação da qualidade da aproximação ||B - Q A||\n",
        "- Comparação com uma transformação obtida por Procrustes absoluto implementado\n",
        "\n",
        "SAÍDA:\n",
        "Não há retorno. A função imprime:\n",
        "- As matrizes intermediárias e finais\n",
        "- O erro global de aproximação com GSVD truncado por ângulo\n",
        "- O erro com Procrustes absoluto\n",
        "- A diferença entre a aproximação obtida usando GSVD e Procrustes\n",
        "\n",
        "=#\n",
        "\n",
        "# TODO: Conferir\n",
        "function absolute_procrustes(A, B)\n",
        "    U, _, Vt = svd(B * A')  # B Aᵀ\n",
        "    return U * Vt\n",
        "end\n",
        "\n",
        "function relative_procrustes(A, B)\n",
        "    U, V, _, _, _, _ = svd(A, B)\n",
        "    Q_r = U * V'\n",
        "    return Q_r\n",
        "end\n",
        "\n",
        "function run_test_aprox_by_angle_on_generated_data(A, B, test_case_name::String, angle_low::Float64, angle_high::Float64, target_angle::Float64)\n",
        "\n",
        "    println(\"\\n--- Executando Teste para: $test_case_name ---\")\n",
        "    println(\"Usando limiares de ângulo: [$angle_low, $angle_high] graus, Ângulo alvo para manter: $target_angle graus.\")\n",
        "\n",
        "    println(\"Matriz A (Entrada):\"); display(A)\n",
        "    println(\"Matriz B (Entrada):\"); display(B)\n",
        "\n",
        "    U, V_til, H_gsvd, D1_til_gsvd, D2_til_gsvd, D1_full_gsvd, D2_full_our_gsvd, bl_gsvd, br_gsvd, wl_gsvd, wr_gsvd, r_val_gsvd, P_perm_gsvd, V_orig_gsvd = Our_SVD(A, B)\n",
        "\n",
        "    println(\"D1 (Recuperado por Our_SVD):\"); display(D1_full_gsvd)\n",
        "    println(\"D2 (Recuperado por Our_SVD):\"); display(D2_full_our_gsvd)\n",
        "\n",
        "    println(\"Parâmetros de bloco recuperados: bl=$bl_gsvd, br=$br_gsvd, wl=$wl_gsvd, wr=$wr_gsvd, r=$r_val_gsvd\")\n",
        "\n",
        "    D1_switch, D2_switch =  op_switch(D1_til_gsvd, D2_til_gsvd,bl_gsvd, br_gsvd, wl_gsvd, wr_gsvd, r_val_gsvd) # troca de cor e garante que D1 é inversível\n",
        "\n",
        "    println(\"D1_switch (reconstrução -- troca de cor):\"); display(D1_switch)\n",
        "    println(\"D2_switch (reconstrução -- troca de cor):\"); display(D2_switch)\n",
        "\n",
        "    D1_new, D2_new = op_aprox_by_angle(D1_til_gsvd, D2_til_gsvd, D1_switch, D2_switch,\n",
        "                                       bl_gsvd, br_gsvd, wl_gsvd, wr_gsvd, r_val_gsvd,\n",
        "                                       angle_low, angle_high, target_angle)\n",
        "\n",
        "\n",
        "    println(\"D1_new (após aproximação e reconstrução):\"); display(D1_new)\n",
        "    println(\"D2_new (após aproximação e reconstrução):\"); display(D2_new)\n",
        "\n",
        "    T_approx = D2_new * inv(D1_new)\n",
        "    println(\"T_approx:\"); display(T_approx)\n",
        "\n",
        "    Q_estimated = V_til * T_approx * U'\n",
        "    println(\"Q_estimated:\"); display(Q_estimated)\n",
        "\n",
        "    A_transformed = Q_estimated * A\n",
        "    println(\"A_transformed:\"); display(A_transformed)\n",
        "\n",
        "    erro_frobenius = norm(B - A_transformed)\n",
        "    @printf \"Erro de Aproximação Global (Norma de Frobenius ||B - A_transformed||): %.4f\\n\" erro_frobenius\n",
        "\n",
        "    println(\"\\nComparação Coluna a Coluna (Norma da Diferença):\")\n",
        "       if size(A_transformed, 2) == size(B, 2)\n",
        "            for j in 1:size(B, 2)\n",
        "                norm_diff_col = norm(B[:,j] - A_transformed[:,j])\n",
        "                @printf \"Coluna %d: %.4f\\n\" j norm_diff_col\n",
        "            end\n",
        "       else\n",
        "            println(\"Número de colunas de B e A_transformed não coincide.\")\n",
        "       end\n",
        "\n",
        "\n",
        "          # --- Comparação com Procrustes Absoluto ---\n",
        "      Q_procrustes = absolute_procrustes(A, B)\n",
        "      A_transformed_p = Q_procrustes * A\n",
        "      erro_procrustes = norm(B - A_transformed_p)\n",
        "\n",
        "      Q_relative = relative_procrustes(A,B)\n",
        "      display(Q_relative)\n",
        "      A_transformed_r = Q_relative * A\n",
        "      erro_relative = norm(B - A_transformed_r)\n",
        "\n",
        "      println(\"\\n[Comparação de Métodos]\")\n",
        "      @printf \"Erro Aproximação GSVD (Frobenius): %.6f\\n\" erro_frobenius\n",
        "      @printf \"Erro Aproximação Procrustes Absoluto:      %.6f\\n\" erro_procrustes\n",
        "      @printf \"Erro Aproximação Procrustes Relativo:      %.6f\\n\" erro_relative\n",
        "\n",
        "      # Diferença entre transformações\n",
        "      Q_diff = Q_estimated - Q_procrustes\n",
        "      @printf \"Norma da diferença entre Q_GSVD e Q_Procrustes: %.6f\\n\" norm(Q_diff)\n",
        "\n",
        "    println(\"--- Fim do Teste: $test_case_name ---\")\n",
        "end\n",
        "\n",
        "#=\n",
        "main_test_suite\n",
        "\n",
        "ENTRADA: A_input::Union{Matrix, Nothing} = nothing  → (Opcional) Matriz A fornecida externamente para teste, B_input::Union{Matrix, Nothing} = nothing  → (Opcional) Matriz B fornecida externamente para teste\n",
        "\n",
        "OBJETIVO:\n",
        "Executa testes automatizados para validar a aproximação por ângulo no GSVD modificado. A função possui dois modos de operação:\n",
        "\n",
        "- Modo com entrada externa: Se `A_input` e `B_input` forem fornecidos, roda um único teste com essas matrizes como entrada, aplicando os limiares de ângulo definidos internamente.\n",
        "- Modo padrão (interno): Caso nenhuma entrada seja fornecida, a função:\n",
        "   - Define parâmetros fixos de geração de dados simulados para o GSVD\n",
        "   - Gera dois conjuntos de dados com `generate_data_case`: um com todos os ângulos de 45° (\"Perfeito com Ruído\") e outro com ângulos mistos (\"Misto\")\n",
        "   - Aplica `run_test_aprox_by_angle_on_generated_data` a cada caso, com os seguintes limiares já determinados dentro da lógica:\n",
        "     - Ângulo inferior: 30°\n",
        "     - Ângulo superior: 60°\n",
        "     - Ângulo alvo de preservação: 45°\n",
        "\n",
        "Durante a execução, a função ajusta automaticamente o número de colunas da matriz H  (`n_cols_H`) para ser compatível com a estrutura de blocos definida por `bl`, `r`, e `br`. Também ajusta os parâmetros `wl` e `wr` para garantir que sejam não-negativos.\n",
        "\n",
        "SAÍDA:\n",
        "Não há valor de retorno. A função imprime:\n",
        "- Os parâmetros usados na geração dos dados\n",
        "- As matrizes A e B geradas\n",
        "- As transformações aproximadas e erros obtidos com base na filtragem por ângulo\n",
        "- Comparações entre a transformação via GSVD truncado e a solução por Procrustes absoluto\n",
        "=#\n",
        "\n",
        "\n",
        "\n",
        "function main_test_suite(A_input=nothing, B_input=nothing)\n",
        "    angle_low_thresh = 30.0\n",
        "    angle_high_thresh = 60.0\n",
        "    target_angle_keep = 45.0\n",
        "\n",
        "    if A_input !== nothing && B_input !== nothing\n",
        "        run_test_aprox_by_angle_on_generated_data(A_input, B_input, \"Entrada Externa\",\n",
        "                                                  angle_low_thresh, angle_high_thresh, target_angle_keep)\n",
        "        return\n",
        "    end\n",
        "\n",
        "    # Código antigo continua aqui se nenhuma entrada for fornecida\n",
        "    m_rows = 5 # qt linhas de A\n",
        "    p_rows = 5 # qt linhas de B\n",
        "    n_cols_H = 3 # colunas de A e B\n",
        "    r_param = 2\n",
        "    bl_param = 1\n",
        "    br_param = 0\n",
        "    n_cols_H_adjusted = bl_param + r_param + br_param\n",
        "    if n_cols_H_adjusted == 0\n",
        "        n_cols_H_adjusted = 1\n",
        "    end\n",
        "\n",
        "    if n_cols_H != n_cols_H_adjusted\n",
        "        println(\"Ajustando n_cols_H para $n_cols_H_adjusted para H ser quadrada com D1/D2.\")\n",
        "        n_cols_H = n_cols_H_adjusted\n",
        "    end\n",
        "\n",
        "    wl_param = m_rows - bl_param - r_param\n",
        "    wr_param = p_rows - br_param - r_param\n",
        "\n",
        "    if wl_param < 0; wl_param = 0; println(\"wl_param ajustado para 0\"); end\n",
        "    if wr_param < 0; wr_param = 0; println(\"wr_param ajustado para 0\"); end\n",
        "\n",
        "    println(\"Parâmetros de Geração: m=$m_rows, p=$p_rows, n_cols_AB=$n_cols_H\")\n",
        "    println(\"Blocos: bl=$bl_param, br=$br_param, wl=$wl_param, wr=$wr_param, r=$r_param\")\n",
        "\n",
        "    A_p, B_p = generate_data_case(\"Perfeito com Ruído\", m_rows, p_rows, n_cols_H,\n",
        "                                  bl_param, br_param, wl_param, wr_param, r_param, 0.05)\n",
        "    run_test_aprox_by_angle_on_generated_data(A_p, B_p, \"Perfeito com Ruído\",\n",
        "                                              angle_low_thresh, angle_high_thresh, target_angle_keep)\n",
        "\n",
        "    A_m, B_m = generate_data_case(\"Misto\", m_rows, p_rows, n_cols_H,\n",
        "                                  bl_param, br_param, wl_param, wr_param, r_param, 0.05)\n",
        "    run_test_aprox_by_angle_on_generated_data(A_m, B_m, \"Misto\",\n",
        "                                              angle_low_thresh, angle_high_thresh, target_angle_keep)\n",
        "end\n",
        "\n",
        "main_test_suite()\n",
        "\n"
      ]
    },
    {
      "cell_type": "code",
      "source": [
        "\n",
        "#=\n",
        "A = [1 0\n",
        "     0 1]  # vetor na direção x\n",
        "\n",
        "B = [1 0\n",
        "     0 1]  # vetor na direção y\n",
        "\n",
        "=#\n",
        "\n",
        "#=\n",
        "A = [1 0\n",
        "     0 1]\n",
        "\n",
        "B = [0 1\n",
        "     -1 0]  # rotação de 90°\n",
        "=#\n",
        "\n",
        "#=\n",
        "A = [1 0 0;\n",
        "     0 1 0;\n",
        "     0 0 0]   # plano XY\n",
        "\n",
        "B = [1 0 0;\n",
        "     0 0 0;\n",
        "     0 0 1]   # plano XZ\n",
        "=#\n",
        "\n",
        "A = [1 0 0\n",
        "     0 1 0]\n",
        "\n",
        "B = [0 1 0\n",
        "     0 0 1]\n",
        "\n",
        "main_test_suite(A, B)"
      ],
      "metadata": {
        "colab": {
          "base_uri": "https://localhost:8080/",
          "height": 1000
        },
        "id": "OJktAPiMFRiR",
        "outputId": "396d73a5-4727-41b7-a9e8-3e9d69393871"
      },
      "execution_count": 46,
      "outputs": [
        {
          "output_type": "stream",
          "name": "stdout",
          "text": [
            "\n",
            "--- Executando Teste para: Entrada Externa ---\n",
            "Usando limiares de ângulo: [30.0, 60.0] graus, Ângulo alvo para manter: 45.0 graus.\n",
            "Matriz A (Entrada):\n"
          ]
        },
        {
          "output_type": "display_data",
          "data": {
            "text/plain": [
              "2×3 Matrix{Int64}:\n",
              " 1  0  0\n",
              " 0  1  0"
            ]
          },
          "metadata": {}
        },
        {
          "output_type": "stream",
          "name": "stdout",
          "text": [
            "Matriz B (Entrada):\n"
          ]
        },
        {
          "output_type": "display_data",
          "data": {
            "text/plain": [
              "2×3 Matrix{Int64}:\n",
              " 0  1  0\n",
              " 0  0  1"
            ]
          },
          "metadata": {}
        },
        {
          "output_type": "stream",
          "name": "stdout",
          "text": [
            "D1 (Recuperado por Our_SVD):\n"
          ]
        },
        {
          "output_type": "display_data",
          "data": {
            "text/plain": [
              "2×3 Matrix{Float64}:\n",
              " 1.0  0.0       0.0\n",
              " 0.0  0.707107  0.0"
            ]
          },
          "metadata": {}
        },
        {
          "output_type": "stream",
          "name": "stdout",
          "text": [
            "D2 (Recuperado por Our_SVD):\n"
          ]
        },
        {
          "output_type": "display_data",
          "data": {
            "text/plain": [
              "2×3 Matrix{Float64}:\n",
              " 0.0  0.707107  0.0\n",
              " 0.0  0.0       1.0"
            ]
          },
          "metadata": {}
        },
        {
          "output_type": "stream",
          "name": "stdout",
          "text": [
            "Parâmetros de bloco recuperados: bl=1, br=1, wl=0, wr=0, r=1\n",
            "D1_switch (reconstrução -- troca de cor):\n"
          ]
        },
        {
          "output_type": "display_data",
          "data": {
            "text/plain": [
              "2×2 Matrix{Float64}:\n",
              " 1.0  0.0\n",
              " 0.0  0.707107"
            ]
          },
          "metadata": {}
        },
        {
          "output_type": "stream",
          "name": "stdout",
          "text": [
            "D2_switch (reconstrução -- troca de cor):\n"
          ]
        },
        {
          "output_type": "display_data",
          "data": {
            "text/plain": [
              "2×2 Matrix{Float64}:\n",
              " 0.0  0.707107\n",
              " 0.0  0.0"
            ]
          },
          "metadata": {}
        },
        {
          "output_type": "stream",
          "name": "stdout",
          "text": [
            "D1_new (após aproximação e reconstrução):\n"
          ]
        },
        {
          "output_type": "display_data",
          "data": {
            "text/plain": [
              "2×2 Matrix{Float64}:\n",
              " 1.0  0.0\n",
              " 0.0  0.707107"
            ]
          },
          "metadata": {}
        },
        {
          "output_type": "stream",
          "name": "stdout",
          "text": [
            "D2_new (após aproximação e reconstrução):\n"
          ]
        },
        {
          "output_type": "display_data",
          "data": {
            "text/plain": [
              "2×2 Matrix{Float64}:\n",
              " 0.0  0.707107\n",
              " 0.0  0.0"
            ]
          },
          "metadata": {}
        },
        {
          "output_type": "stream",
          "name": "stdout",
          "text": [
            "T_approx:\n"
          ]
        },
        {
          "output_type": "display_data",
          "data": {
            "text/plain": [
              "2×2 Matrix{Float64}:\n",
              " 0.0  1.0\n",
              " 0.0  0.0"
            ]
          },
          "metadata": {}
        },
        {
          "output_type": "stream",
          "name": "stdout",
          "text": [
            "Q_estimated:\n"
          ]
        },
        {
          "output_type": "display_data",
          "data": {
            "text/plain": [
              "2×2 Matrix{Float64}:\n",
              " 0.0  1.0\n",
              " 0.0  0.0"
            ]
          },
          "metadata": {}
        },
        {
          "output_type": "stream",
          "name": "stdout",
          "text": [
            "A_transformed:\n"
          ]
        },
        {
          "output_type": "display_data",
          "data": {
            "text/plain": [
              "2×3 Matrix{Float64}:\n",
              " 0.0  1.0  0.0\n",
              " 0.0  0.0  0.0"
            ]
          },
          "metadata": {}
        },
        {
          "output_type": "stream",
          "name": "stdout",
          "text": [
            "Erro de Aproximação Global (Norma de Frobenius ||B - A_transformed||): 1.0000\n",
            "\n",
            "Comparação Coluna a Coluna (Norma da Diferença):\n",
            "Coluna 1: 0.0000\n",
            "Coluna 2: 0.0000\n",
            "Coluna 3: 1.0000\n"
          ]
        },
        {
          "output_type": "display_data",
          "data": {
            "text/plain": [
              "2×2 Matrix{Float64}:\n",
              " 1.0  0.0\n",
              " 0.0  1.0"
            ]
          },
          "metadata": {}
        },
        {
          "output_type": "stream",
          "name": "stdout",
          "text": [
            "\n",
            "[Comparação de Métodos]\n",
            "Erro Aproximação GSVD (Frobenius): 1.000000\n",
            "Erro Aproximação Procrustes Absoluto:      2.449490\n",
            "Erro Aproximação Procrustes Relativo:      2.000000\n",
            "Norma da diferença entre Q_GSVD e Q_Procrustes: 2.236068\n",
            "--- Fim do Teste: Entrada Externa ---\n"
          ]
        }
      ]
    }
  ]
}