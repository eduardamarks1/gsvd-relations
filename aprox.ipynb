{
  "nbformat": 4,
  "nbformat_minor": 0,
  "metadata": {
    "colab": {
      "provenance": []
    },
    "kernelspec": {
      "name": "julia",
      "display_name": "Julia"
    },
    "language_info": {
      "name": "julia"
    }
  },
  "cells": [
    {
      "cell_type": "code",
      "source": [
        "%%shell\n",
        "set -e\n",
        "\n",
        "#---------------------------------------------------#\n",
        "JULIA_VERSION=\"1.8.2\" # any version ≥ 0.7.0\n",
        "JULIA_PACKAGES=\"IJulia BenchmarkTools\"\n",
        "JULIA_PACKAGES_IF_GPU=\"CUDA\" # or CuArrays for older Julia versions\n",
        "JULIA_NUM_THREADS=2\n",
        "#---------------------------------------------------#\n",
        "\n",
        "if [ -z `which julia` ]; then\n",
        "  # Install Julia\n",
        "  JULIA_VER=`cut -d '.' -f -2 <<< \"$JULIA_VERSION\"`\n",
        "  echo \"Installing Julia $JULIA_VERSION on the current Colab Runtime...\"\n",
        "  BASE_URL=\"https://julialang-s3.julialang.org/bin/linux/x64\"\n",
        "  URL=\"$BASE_URL/$JULIA_VER/julia-$JULIA_VERSION-linux-x86_64.tar.gz\"\n",
        "  wget -nv $URL -O /tmp/julia.tar.gz # -nv means \"not verbose\"\n",
        "  tar -x -f /tmp/julia.tar.gz -C /usr/local --strip-components 1\n",
        "  rm /tmp/julia.tar.gz\n",
        "\n",
        "  # Install Packages\n",
        "  nvidia-smi -L &> /dev/null && export GPU=1 || export GPU=0\n",
        "  if [ $GPU -eq 1 ]; then\n",
        "    JULIA_PACKAGES=\"$JULIA_PACKAGES $JULIA_PACKAGES_IF_GPU\"\n",
        "  fi\n",
        "  for PKG in `echo $JULIA_PACKAGES`; do\n",
        "    echo \"Installing Julia package $PKG...\"\n",
        "    julia -e 'using Pkg; pkg\"add '$PKG'; precompile;\"' &> /dev/null\n",
        "  done\n",
        "\n",
        "  # Install kernel and rename it to \"julia\"\n",
        "  echo \"Installing IJulia kernel...\"\n",
        "  julia -e 'using IJulia; IJulia.installkernel(\"julia\", env=Dict(\n",
        "      \"JULIA_NUM_THREADS\"=>\"'\"$JULIA_NUM_THREADS\"'\"))'\n",
        "  KERNEL_DIR=`julia -e \"using IJulia; print(IJulia.kerneldir())\"`\n",
        "  KERNEL_NAME=`ls -d \"$KERNEL_DIR\"/julia*`\n",
        "  mv -f $KERNEL_NAME \"$KERNEL_DIR\"/julia\n",
        "\n",
        "  echo ''\n",
        "  echo \"Successfully installed `julia -v`!\"\n",
        "  echo \"Please reload this page (press Ctrl+R, ⌘+R, or the F5 key) then\"\n",
        "  echo \"jump to the 'Checking the Installation' section.\"\n",
        "fi"
      ],
      "metadata": {
        "id": "Y5dG-usaDPWN"
      },
      "execution_count": null,
      "outputs": []
    },
    {
      "cell_type": "code",
      "execution_count": 25,
      "metadata": {
        "colab": {
          "base_uri": "https://localhost:8080/",
          "height": 1000
        },
        "id": "Z2KEM1tSDJP8",
        "outputId": "57766fe6-753e-481a-c1b9-3e7b56f773a5"
      },
      "outputs": [
        {
          "output_type": "stream",
          "name": "stdout",
          "text": [
            "Ajustando n_cols_H para 2 para H ser quadrada com D1/D2.\n",
            "Parâmetros de Geração: m=2, p=2, n_cols_AB=2\n",
            "Blocos: bl=1, br=0, wl=0, wr=1, r=1\n",
            "\n",
            "--- Gerando Dados para: Perfeito com Ruído ---\n",
            "D1_til usado na geração (Perfeito):\n"
          ]
        },
        {
          "output_type": "display_data",
          "data": {
            "text/plain": [
              "1×1 Diagonal{Float64, Vector{Float64}}:\n",
              " 0.7071067811865476"
            ]
          },
          "metadata": {}
        },
        {
          "output_type": "stream",
          "name": "stdout",
          "text": [
            "D2_til usado na geração (Perfeito):\n"
          ]
        },
        {
          "output_type": "display_data",
          "data": {
            "text/plain": [
              "1×1 Diagonal{Float64, Vector{Float64}}:\n",
              " 0.7071067811865476"
            ]
          },
          "metadata": {}
        },
        {
          "output_type": "stream",
          "name": "stdout",
          "text": [
            "\n",
            "--- Executando Teste para: Perfeito com Ruído ---\n",
            "Usando limiares de ângulo: [30.0, 60.0] graus, Ângulo alvo para manter: 45.0 graus.\n",
            "Matriz A (Entrada):\n"
          ]
        },
        {
          "output_type": "display_data",
          "data": {
            "text/plain": [
              "2×2 Matrix{Float64}:\n",
              " -0.0512729  0.296315\n",
              "  0.512024   0.282403"
            ]
          },
          "metadata": {}
        },
        {
          "output_type": "stream",
          "name": "stdout",
          "text": [
            "Matriz B (Entrada):\n"
          ]
        },
        {
          "output_type": "display_data",
          "data": {
            "text/plain": [
              "2×2 Matrix{Float64}:\n",
              " 0.305595  0.216454\n",
              " 0.137833  0.255461"
            ]
          },
          "metadata": {}
        },
        {
          "output_type": "stream",
          "name": "stdout",
          "text": [
            "D1_full (Recuperado por Our_SVD):\n"
          ]
        },
        {
          "output_type": "display_data",
          "data": {
            "text/plain": [
              "2×2 Matrix{Float64}:\n",
              " 0.770695  0.0\n",
              " 0.0       0.943561"
            ]
          },
          "metadata": {}
        },
        {
          "output_type": "stream",
          "name": "stdout",
          "text": [
            "D2_full (Recuperado por Our_SVD):\n"
          ]
        },
        {
          "output_type": "display_data",
          "data": {
            "text/plain": [
              "2×2 Matrix{Float64}:\n",
              " 0.637204  0.0\n",
              " 0.0       0.331198"
            ]
          },
          "metadata": {}
        },
        {
          "output_type": "stream",
          "name": "stdout",
          "text": [
            "Parâmetros de bloco recuperados: bl=0, br=0, wl=0, wr=0, r=2\n",
            "D1_switch (reconstrução -- troca de cor):\n"
          ]
        },
        {
          "output_type": "display_data",
          "data": {
            "text/plain": [
              "2×2 Matrix{Float64}:\n",
              " 0.770695  0.0\n",
              " 0.0       0.943561"
            ]
          },
          "metadata": {}
        },
        {
          "output_type": "stream",
          "name": "stdout",
          "text": [
            "D2_switch (reconstrução -- troca de cor):\n"
          ]
        },
        {
          "output_type": "display_data",
          "data": {
            "text/plain": [
              "2×2 Matrix{Float64}:\n",
              " 0.637204  0.0\n",
              " 0.0       0.331198"
            ]
          },
          "metadata": {}
        },
        {
          "output_type": "stream",
          "name": "stdout",
          "text": [
            "D1_new (após aproximação e reconstrução):\n"
          ]
        },
        {
          "output_type": "display_data",
          "data": {
            "text/plain": [
              "2×2 Matrix{Float64}:\n",
              " 0.707107  0.0\n",
              " 0.0       1.0"
            ]
          },
          "metadata": {}
        },
        {
          "output_type": "stream",
          "name": "stdout",
          "text": [
            "D2_new (após aproximação e reconstrução):\n"
          ]
        },
        {
          "output_type": "display_data",
          "data": {
            "text/plain": [
              "2×2 Matrix{Float64}:\n",
              " 0.707107  0.0\n",
              " 0.0       0.0"
            ]
          },
          "metadata": {}
        },
        {
          "output_type": "stream",
          "name": "stdout",
          "text": [
            "T_approx:\n"
          ]
        },
        {
          "output_type": "display_data",
          "data": {
            "text/plain": [
              "2×2 Matrix{Float64}:\n",
              " 1.0  0.0\n",
              " 0.0  0.0"
            ]
          },
          "metadata": {}
        },
        {
          "output_type": "stream",
          "name": "stdout",
          "text": [
            "Q_estimated:\n"
          ]
        },
        {
          "output_type": "display_data",
          "data": {
            "text/plain": [
              "2×2 Matrix{Float64}:\n",
              " 0.421042  0.556119\n",
              " 0.432529  0.571291"
            ]
          },
          "metadata": {}
        },
        {
          "output_type": "stream",
          "name": "stdout",
          "text": [
            "A_transformed:\n"
          ]
        },
        {
          "output_type": "display_data",
          "data": {
            "text/plain": [
              "2×2 Matrix{Float64}:\n",
              " 0.263158  0.281811\n",
              " 0.270338  0.2895"
            ]
          },
          "metadata": {}
        },
        {
          "output_type": "stream",
          "name": "stdout",
          "text": [
            "Erro de Aproximação Global (Norma de Frobenius ||B - A_transformed||): 0.1574\n",
            "\n",
            "Comparação Coluna a Coluna (Norma da Diferença):\n",
            "Coluna 1: 0.1391\n",
            "Coluna 2: 0.0737\n",
            "\n",
            "[Comparação de Métodos]\n",
            "Erro Aproximação GSVD (Frobenius): 0.157444\n",
            "Erro Aproximação Procrustes:      1.075819\n",
            "Norma da diferença entre Q_GSVD e Q_Procrustes: 2.110058\n",
            "--- Fim do Teste: Perfeito com Ruído ---\n",
            "\n",
            "--- Gerando Dados para: Misto ---\n",
            "D1_til usado na geração (Misto):\n"
          ]
        },
        {
          "output_type": "display_data",
          "data": {
            "text/plain": [
              "1×1 Matrix{Float64}:\n",
              " 0.7071067811865476"
            ]
          },
          "metadata": {}
        },
        {
          "output_type": "stream",
          "name": "stdout",
          "text": [
            "D2_til usado na geração (Misto):\n"
          ]
        },
        {
          "output_type": "display_data",
          "data": {
            "text/plain": [
              "1×1 Matrix{Float64}:\n",
              " 0.7071067811865476"
            ]
          },
          "metadata": {}
        },
        {
          "output_type": "stream",
          "name": "stdout",
          "text": [
            "\n",
            "--- Executando Teste para: Misto ---\n",
            "Usando limiares de ângulo: [30.0, 60.0] graus, Ângulo alvo para manter: 45.0 graus.\n",
            "Matriz A (Entrada):\n"
          ]
        },
        {
          "output_type": "display_data",
          "data": {
            "text/plain": [
              "2×2 Matrix{Float64}:\n",
              " -0.197361  -0.00532908\n",
              " -0.215741   0.518626"
            ]
          },
          "metadata": {}
        },
        {
          "output_type": "stream",
          "name": "stdout",
          "text": [
            "Matriz B (Entrada):\n"
          ]
        },
        {
          "output_type": "display_data",
          "data": {
            "text/plain": [
              "2×2 Matrix{Float64}:\n",
              "  0.18664   -0.126582\n",
              " -0.105427   0.154649"
            ]
          },
          "metadata": {}
        },
        {
          "output_type": "stream",
          "name": "stdout",
          "text": [
            "D1_full (Recuperado por Our_SVD):\n"
          ]
        },
        {
          "output_type": "display_data",
          "data": {
            "text/plain": [
              "2×2 Matrix{Float64}:\n",
              " 0.788264  0.0\n",
              " 0.0       0.982051"
            ]
          },
          "metadata": {}
        },
        {
          "output_type": "stream",
          "name": "stdout",
          "text": [
            "D2_full (Recuperado por Our_SVD):\n"
          ]
        },
        {
          "output_type": "display_data",
          "data": {
            "text/plain": [
              "2×2 Matrix{Float64}:\n",
              " 0.615337  0.0\n",
              " 0.0       0.188614"
            ]
          },
          "metadata": {}
        },
        {
          "output_type": "stream",
          "name": "stdout",
          "text": [
            "Parâmetros de bloco recuperados: bl=0, br=0, wl=0, wr=0, r=2\n",
            "D1_switch (reconstrução -- troca de cor):\n"
          ]
        },
        {
          "output_type": "display_data",
          "data": {
            "text/plain": [
              "2×2 Matrix{Float64}:\n",
              " 0.788264  0.0\n",
              " 0.0       0.982051"
            ]
          },
          "metadata": {}
        },
        {
          "output_type": "stream",
          "name": "stdout",
          "text": [
            "D2_switch (reconstrução -- troca de cor):\n"
          ]
        },
        {
          "output_type": "display_data",
          "data": {
            "text/plain": [
              "2×2 Matrix{Float64}:\n",
              " 0.615337  0.0\n",
              " 0.0       0.188614"
            ]
          },
          "metadata": {}
        },
        {
          "output_type": "stream",
          "name": "stdout",
          "text": [
            "D1_new (após aproximação e reconstrução):\n"
          ]
        },
        {
          "output_type": "display_data",
          "data": {
            "text/plain": [
              "2×2 Matrix{Float64}:\n",
              " 0.707107  0.0\n",
              " 0.0       1.0"
            ]
          },
          "metadata": {}
        },
        {
          "output_type": "stream",
          "name": "stdout",
          "text": [
            "D2_new (após aproximação e reconstrução):\n"
          ]
        },
        {
          "output_type": "display_data",
          "data": {
            "text/plain": [
              "2×2 Matrix{Float64}:\n",
              " 0.707107  0.0\n",
              " 0.0       0.0"
            ]
          },
          "metadata": {}
        },
        {
          "output_type": "stream",
          "name": "stdout",
          "text": [
            "T_approx:\n"
          ]
        },
        {
          "output_type": "display_data",
          "data": {
            "text/plain": [
              "2×2 Matrix{Float64}:\n",
              " 1.0  0.0\n",
              " 0.0  0.0"
            ]
          },
          "metadata": {}
        },
        {
          "output_type": "stream",
          "name": "stdout",
          "text": [
            "Q_estimated:\n"
          ]
        },
        {
          "output_type": "display_data",
          "data": {
            "text/plain": [
              "2×2 Matrix{Float64}:\n",
              " -0.814664  -0.411296\n",
              "  0.364973   0.184263"
            ]
          },
          "metadata": {}
        },
        {
          "output_type": "stream",
          "name": "stdout",
          "text": [
            "A_transformed:\n"
          ]
        },
        {
          "output_type": "display_data",
          "data": {
            "text/plain": [
              "2×2 Matrix{Float64}:\n",
              "  0.249516  -0.208967\n",
              " -0.111785   0.0936184"
            ]
          },
          "metadata": {}
        },
        {
          "output_type": "stream",
          "name": "stdout",
          "text": [
            "Erro de Aproximação Global (Norma de Frobenius ||B - A_transformed||): 0.1204\n",
            "\n",
            "Comparação Coluna a Coluna (Norma da Diferença):\n",
            "Coluna 1: 0.0632\n",
            "Coluna 2: 0.1025\n",
            "\n",
            "[Comparação de Métodos]\n",
            "Erro Aproximação GSVD (Frobenius): 0.120440\n",
            "Erro Aproximação Procrustes:      0.850055\n",
            "Norma da diferença entre Q_GSVD e Q_Procrustes: 2.004523\n",
            "--- Fim do Teste: Misto ---\n"
          ]
        }
      ],
      "source": [
        "using Printf\n",
        "using LinearAlgebra\n",
        "\n",
        "\n",
        "function Make_D1_D2(bl,br,wl,wr,r, D1_til, D2_til)\n",
        "    D1= [I(bl)        zeros(bl,r) zeros(bl,br);\n",
        "         zeros(r,bl)  D1_til      zeros(r,br);\n",
        "         zeros(wl,bl) zeros(wl,r) zeros(wl,br)]\n",
        "\n",
        "    #D2 in our format\n",
        "    D2= [zeros(wr,bl) zeros(wr,r) zeros(wr,br);\n",
        "         zeros(r,bl)  D2_til      zeros(r,br);\n",
        "         zeros(br,bl) zeros(br,r) I(br)]\n",
        "\n",
        "    return D1, D2\n",
        "end\n",
        "\n",
        "function Make_A_B(bl,br,wl,wr,r,D1_til,D2_til,H,U,V)\n",
        "    D1,D2 = Make_D1_D2(bl,br,wl,wr,r, D1_til, D2_til)\n",
        "\n",
        "    A = U * D1 * H\n",
        "    B = V * D2 * H\n",
        "\n",
        "    return A, B\n",
        "end\n",
        "\n",
        "function Our_SVD(A,B)\n",
        "    bl,br,wl,wr,r = wire_size(A,B)\n",
        "    U, V, Q, D1, D2_julia, R0 = svd(A, B)\n",
        "\n",
        "    P, D2_our = permutation(wr,r,br, D2_julia)\n",
        "    V_til = V * P #Changing variable to fix line changes in D2\n",
        "\n",
        "    #Selects D1_tilde and D2_tilde\n",
        "    D1_til = D1[bl+1:bl+r, bl+1:bl+r]\n",
        "    D2_til = D2_our[wr+1:wr+r, bl+1:bl+r]\n",
        "\n",
        "    H = R0 * Q'\n",
        "\n",
        "    return U, V_til, H, D1_til, D2_til, D1, D2_our, bl, br, wl, wr, r, P, V\n",
        "end\n",
        "\n",
        "function wire_size(A,B)\n",
        "    m,.. = size(A)\n",
        "    p,.. = size(B)\n",
        "    .., .., .., D1, D2, .. = svd(A, B)\n",
        "    ..,k_mais_l = size(D1)\n",
        "\n",
        "    #Counting k: D1 is a m-by-(k_mais_l) diagonal matrix with 1s in the first k entries,\n",
        "    k = 0\n",
        "    for i in 1:min(m, k_mais_l)\n",
        "        if D1[i, i] == 1\n",
        "            k += 1\n",
        "        else\n",
        "            k += 0\n",
        "        end\n",
        "    end\n",
        "\n",
        "    l = k_mais_l-k\n",
        "\n",
        "    #Counting r: D2 is a matrix whose upper-right l-by-l block is diagonal,\n",
        "    #   with the first r entries belonging to D2_til and the rest 1s.\n",
        "    r = 0\n",
        "    for i in 1:l\n",
        "        if D2[i, k+i] != 1\n",
        "            r += 1\n",
        "        else\n",
        "            r += 0\n",
        "        end\n",
        "    end\n",
        "\n",
        "    bl = k\n",
        "    br = l - r\n",
        "    wl = m - k - r\n",
        "    wr = p - l\n",
        "\n",
        "    return bl,br,wl,wr,r\n",
        "end\n",
        "\n",
        "function permutation(wr,r,br, D2_julia)\n",
        "    P = [zeros(r,wr)  I(r)        zeros(r,br);\n",
        "         zeros(br,wr) zeros(br,r) I(br);\n",
        "         I(wr)        zeros(wr,r) zeros(wr,br)]\n",
        "\n",
        "    P_til = [zeros(wr,r) zeros(wr,br) I(wr);\n",
        "             I(r)        zeros(r,br)  zeros(r,wr);\n",
        "             zeros(br,r) I(br)        zeros(br,wr)]\n",
        "\n",
        "    D2_our = P_til * D2_julia\n",
        "\n",
        "    return P, D2_our\n",
        "end\n",
        "\n",
        "\n",
        "\n",
        "function op_switch(D1_til, D2_til, bl, br, wl, wr, r)\n",
        "    # Cria novas matrizes com zeros\n",
        "    D1_new = zeros(bl + r + wl, bl + r + wl)\n",
        "    D2_new = zeros(wr + r + br, bl + r + wl)\n",
        "\n",
        "    D1_new[1:bl, 1:bl] .= I(bl)\n",
        "    D1_new[bl+1:bl+r, bl+1:bl+r] .= D1_til\n",
        "    D1_new[bl+r+1:end, bl+r+1:end] .= I(wl)\n",
        "\n",
        "    D2_new[wr+1:wr+r, bl+1:bl+r] .= D2_til\n",
        "\n",
        "    return D1_new, D2_new\n",
        "end\n",
        "\n",
        "\n",
        "function aprox_by_angle(D1_til, D2_til, angle_lower_degrees::Float64, angle_upper_degrees::Float64, target_angle_degrees_for_keeping::Float64)\n",
        "    if size(D1_til) != size(D2_til); error(\"D1_til e D2_til devem ter as mesmas dimensões\"); end\n",
        "    if !(0.0 <= angle_lower_degrees <= angle_upper_degrees <= 90.0); error(\"Limiares de ângulo inválidos. Deve ser 0 <= lower <= upper <= 90.\"); end\n",
        "    if !(0.0 <= target_angle_degrees_for_keeping <= 90.0); error(\"Ângulo alvo inválido.\"); end\n",
        "\n",
        "    r_val = size(D1_til, 1)\n",
        "    if r_val == 0; return Diagonal(zeros(Float64,0)), Diagonal(zeros(Float64,0)); end\n",
        "\n",
        "    D1_vec_aprox = zeros(Float64, r_val)\n",
        "    D2_vec_aprox = zeros(Float64, r_val)\n",
        "\n",
        "    target_angle_rad = deg2rad(target_angle_degrees_for_keeping)\n",
        "    cos_target = cos(target_angle_rad)\n",
        "    sin_target = sin(target_angle_rad)\n",
        "\n",
        "    for i in 1:r_val\n",
        "        c = D1_til[i,i]\n",
        "        s = D2_til[i,i]\n",
        "        angle_rad = atan(s, c) # Assumindo c,s >= 0 da GSVD, ângulo em [0, pi/2]\n",
        "        angle_deg = rad2deg(angle_rad)\n",
        "\n",
        "        #println(\"aprox_by_angle: Comp $i, c=$c, s=$s, ang_deg=$angle_deg\")\n",
        "        if angle_deg >= angle_lower_degrees && angle_deg <= angle_upper_degrees\n",
        "            D1_vec_aprox[i] = cos_target\n",
        "            D2_vec_aprox[i] = sin_target\n",
        "        else\n",
        "            D1_vec_aprox[i] = 1.0 # Para descarte, T_ii = 0\n",
        "            D2_vec_aprox[i] = 0.0\n",
        "        end\n",
        "    end\n",
        "    return Diagonal(D1_vec_aprox), Diagonal(D2_vec_aprox)\n",
        "end\n",
        "\n",
        "function op_aprox_by_angle(D1_til_gsvd::AbstractMatrix, D2_til_gsvd::AbstractMatrix,\n",
        "                           D1_structural_template::AbstractMatrix, D2_structural_template::AbstractMatrix,\n",
        "                           bl::Int, br::Int, wl::Int, wr::Int, r_val::Int,\n",
        "                           angle_lower_degrees::Float64, angle_upper_degrees::Float64,\n",
        "                           target_angle_degrees_for_keeping::Float64)\n",
        "\n",
        "    # Criar cópias das matrizes estruturais para não modificar as originais\n",
        "    D1_new = copy(D1_structural_template)\n",
        "    D2_new = copy(D2_structural_template)\n",
        "\n",
        "    if r_val > 0\n",
        "        # Calcular os blocos _til aproximados\n",
        "        D1_til_aprox, D2_til_aprox = aprox_by_angle(D1_til_gsvd, D2_til_gsvd,\n",
        "                                                    angle_lower_degrees, angle_upper_degrees,\n",
        "                                                    target_angle_degrees_for_keeping)\n",
        "\n",
        "        # Verificar se as dimensões dos blocos _til aproximados são compatíveis\n",
        "        # com as fatias onde serão inseridos.\n",
        "        # D1_structural_template (e D1_new) tem o bloco _til em [bl+1:bl+r_val, bl+1:bl+r_val]\n",
        "        # D2_structural_template (e D2_new) tem o bloco _til em [wr+1:wr+r_val, bl+1:bl+r_val]\n",
        "\n",
        "        # Assegurar que D1_til_aprox e D2_til_aprox são r_val x r_val\n",
        "        if size(D1_til_aprox) != (r_val, r_val) || size(D2_til_aprox) != (r_val, r_val)\n",
        "            error(\"Dimensões de D1_til_aprox ou D2_til_aprox não são r_val x r_val como esperado.\")\n",
        "        end\n",
        "\n",
        "        # Inserir os blocos _til aproximados nas posições corretas das cópias\n",
        "        # Para D1_new, o bloco D1_til está em [bl+1 : bl+r_val, bl+1 : bl+r_val]\n",
        "        if bl + r_val <= size(D1_new, 1) && bl + r_val <= size(D1_new, 2)\n",
        "            D1_new[bl+1 : bl+r_val, bl+1 : bl+r_val] = D1_til_aprox\n",
        "        elseif r_val > 0\n",
        "             error(\"Dimensões de D1_new não comportam D1_til_aprox na posição esperada.\")\n",
        "        end\n",
        "\n",
        "        # Para D2_new, o bloco D2_til está em [wr+1 : wr+r_val, bl+1 : bl+r_val]\n",
        "        if wr + r_val <= size(D2_new, 1) && bl + r_val <= size(D2_new, 2)\n",
        "            D2_new[wr+1 : wr+r_val, bl+1 : bl+r_val] = D2_til_aprox\n",
        "        elseif r_val > 0\n",
        "            error(\"Dimensões de D2_new não comportam D2_til_aprox na posição esperada.\")\n",
        "        end\n",
        "    end\n",
        "    # Se r_val == 0, D1_new e D2_new já são as cópias de D1_structural_template e D2_structural_template,\n",
        "    # que devem estar corretas (sem blocos _til para modificar).\n",
        "\n",
        "    return D1_new, D2_new\n",
        "end\n",
        "\n",
        "\n",
        "\n",
        "function run_test_aprox_by_angle_on_generated_data(A::AbstractMatrix, B::AbstractMatrix, test_case_name::String, angle_low::Float64, angle_high::Float64, target_angle::Float64)\n",
        "\n",
        "    println(\"\\n--- Executando Teste para: $test_case_name ---\")\n",
        "    println(\"Usando limiares de ângulo: [$angle_low, $angle_high] graus, Ângulo alvo para manter: $target_angle graus.\")\n",
        "\n",
        "    println(\"Matriz A (Entrada):\"); display(A)\n",
        "    println(\"Matriz B (Entrada):\"); display(B)\n",
        "\n",
        "    U, V_til, H_gsvd, D1_til_gsvd, D2_til_gsvd, D1_full_gsvd, D2_full_our_gsvd, bl_gsvd, br_gsvd, wl_gsvd, wr_gsvd, r_val_gsvd, P_perm_gsvd, V_orig_gsvd = Our_SVD(A, B)\n",
        "\n",
        "    println(\"D1_full (Recuperado por Our_SVD):\"); display(D1_full_gsvd)\n",
        "    println(\"D2_full (Recuperado por Our_SVD):\"); display(D2_full_our_gsvd)\n",
        "\n",
        "    println(\"Parâmetros de bloco recuperados: bl=$bl_gsvd, br=$br_gsvd, wl=$wl_gsvd, wr=$wr_gsvd, r=$r_val_gsvd\")\n",
        "\n",
        "    D1_switch, D2_switch =  op_switch( D1_til_gsvd, D2_til_gsvd,bl_gsvd, br_gsvd, wl_gsvd, wr_gsvd, r_val_gsvd) # troca de cor e garante que D1 é inversível\n",
        "\n",
        "    println(\"D1_switch (reconstrução -- troca de cor):\"); display(D1_switch)\n",
        "    println(\"D2_switch (reconstrução -- troca de cor):\"); display(D2_switch)\n",
        "\n",
        "    D1_new, D2_new = op_aprox_by_angle(D1_til_gsvd, D2_til_gsvd, D1_switch, D2_switch,\n",
        "                                       bl_gsvd, br_gsvd, wl_gsvd, wr_gsvd, r_val_gsvd,\n",
        "                                       angle_low, angle_high, target_angle)\n",
        "\n",
        "\n",
        "    println(\"D1_new (após aproximação e reconstrução):\"); display(D1_new)\n",
        "    println(\"D2_new (após aproximação e reconstrução):\"); display(D2_new)\n",
        "    T_approx = D2_new * inv(D1_new)\n",
        "    println(\"T_approx:\"); display(T_approx)\n",
        "\n",
        "    # Ajuste: usar somente as primeiras r colunas de U e V_til para compor Q_estimated,\n",
        "    # de forma que as dimensões de T_approx (r x r) sejam compatíveis.\n",
        "    r_cols = size(T_approx, 1)\n",
        "    if size(V_til, 2) >= r_cols && size(U, 2) >= r_cols\n",
        "        V_til_r = V_til[:, 1:r_cols]\n",
        "        U_r = U[:, 1:r_cols]\n",
        "        Q_estimated = V_til_r * T_approx * U_r'\n",
        "        println(\"Q_estimated:\"); display(Q_estimated)\n",
        "\n",
        "        A_transformed = Q_estimated * A\n",
        "        println(\"A_transformed:\"); display(A_transformed)\n",
        "\n",
        "        erro_frobenius = norm(B - A_transformed)\n",
        "        @printf \"Erro de Aproximação Global (Norma de Frobenius ||B - A_transformed||): %.4f\\n\" erro_frobenius\n",
        "\n",
        "        println(\"\\nComparação Coluna a Coluna (Norma da Diferença):\")\n",
        "        if size(A_transformed, 2) == size(B, 2)\n",
        "            for j in 1:size(B, 2)\n",
        "                norm_diff_col = norm(B[:,j] - A_transformed[:,j])\n",
        "                @printf \"Coluna %d: %.4f\\n\" j norm_diff_col\n",
        "            end\n",
        "        else\n",
        "            println(\"Número de colunas de B e A_transformed não coincide.\")\n",
        "        end\n",
        "    else\n",
        "        println(\"Dimensões incompatíveis para truncamento em U/V_til. Pulando Q_estimated.\")\n",
        "    end\n",
        "          # --- Comparação com Procrustes Absoluto ---\n",
        "      Q_procrustes = absolute_procrustes(A, B)\n",
        "      A_transformed_p = Q_procrustes * A\n",
        "      erro_procrustes = norm(B - A_transformed_p)\n",
        "\n",
        "      println(\"\\n[Comparação de Métodos]\")\n",
        "      @printf \"Erro Aproximação GSVD (Frobenius): %.6f\\n\" erro_frobenius\n",
        "      @printf \"Erro Aproximação Procrustes:      %.6f\\n\" erro_procrustes\n",
        "\n",
        "      # Diferença entre transformações\n",
        "      Q_diff = Q_estimated - Q_procrustes\n",
        "      @printf \"Norma da diferença entre Q_GSVD e Q_Procrustes: %.6f\\n\" norm(Q_diff)\n",
        "\n",
        "    println(\"--- Fim do Teste: $test_case_name ---\")\n",
        "end\n",
        "\n",
        "function generate_data_case(case_type::String, m_rows::Int, p_rows::Int, n_cols_H::Int,\n",
        "                            bl::Int, br::Int, wl::Int, wr::Int, r::Int, noise_level::Float64 = 0.01)\n",
        "    println(\"\\n--- Gerando Dados para: $case_type ---\")\n",
        "\n",
        "    dim_U_cols = bl + r + wl\n",
        "    dim_V_cols = wr + r + br\n",
        "    dim_H_rows = bl + r + br\n",
        "\n",
        "    temp_U = randn(m_rows, dim_U_cols)\n",
        "    U_ortho = Matrix(qr(temp_U).Q)\n",
        "    if size(U_ortho,2) < dim_U_cols\n",
        "        println(\"Advertência: m_rows < dim_U_cols, U pode não ter posto de coluna completo como desejado.\")\n",
        "    end\n",
        "\n",
        "    temp_V = randn(p_rows, dim_V_cols)\n",
        "    V_ortho = Matrix(qr(temp_V).Q)\n",
        "    if size(V_ortho,2) < dim_V_cols\n",
        "        println(\"Advertência: p_rows < dim_V_cols, V pode não ter posto de coluna completo como desejado.\")\n",
        "    end\n",
        "\n",
        "    if dim_H_rows != n_cols_H\n",
        "        println(\"Para H ser quadrada e invertível facilmente, defina n_cols_H = bl+r+br ($dim_H_rows).\")\n",
        "        if dim_H_rows <= n_cols_H\n",
        "            H_matrix = randn(dim_H_rows, n_cols_H)\n",
        "        else\n",
        "            H_matrix = randn(dim_H_rows, n_cols_H)\n",
        "            println(\"Advertência: dim_H_rows > n_cols_H, H não terá posto de linha completo.\")\n",
        "        end\n",
        "    else\n",
        "         H_matrix = randn(dim_H_rows, n_cols_H)\n",
        "         if rank(H_matrix) < dim_H_rows\n",
        "             H_matrix += Matrix(I,dim_H_rows,dim_H_rows)*0.1\n",
        "         end\n",
        "         if rank(H_matrix) < dim_H_rows\n",
        "             H_matrix = Matrix(I,dim_H_rows,dim_H_rows);\n",
        "             println(\"H forçada para Identidade.\")\n",
        "         end\n",
        "    end\n",
        "\n",
        "    D1_til_gen = zeros(r, r)\n",
        "    D2_til_gen = zeros(r, r)\n",
        "\n",
        "    if case_type == \"Perfeito com Ruído\"\n",
        "        if r > 0\n",
        "            D1_til_gen = Diagonal(fill(cosd(45), r))\n",
        "            D2_til_gen = Diagonal(fill(sind(45), r))\n",
        "        end\n",
        "        A_gen, B_gen = Make_A_B(bl, br, wl, wr, r, D1_til_gen, D2_til_gen, H_matrix, U_ortho, V_ortho)\n",
        "        A_final = A_gen + noise_level * randn(size(A_gen))\n",
        "        B_final = B_gen + noise_level * randn(size(B_gen))\n",
        "        println(\"D1_til usado na geração (Perfeito):\"); display(D1_til_gen)\n",
        "        println(\"D2_til usado na geração (Perfeito):\"); display(D2_til_gen)\n",
        "\n",
        "    elseif case_type == \"Misto\"\n",
        "        if r >= 1\n",
        "            D1_til_gen[1,1] = cosd(45); D2_til_gen[1,1] = sind(45)\n",
        "        end\n",
        "        if r >= 2\n",
        "            D1_til_gen[2,2] = cosd(10); D2_til_gen[2,2] = sind(10)\n",
        "        end\n",
        "        for i in 3:r\n",
        "            D1_til_gen[i,i] = cosd(45); D2_til_gen[i,i] = sind(45)\n",
        "        end\n",
        "\n",
        "        A_final, B_final = Make_A_B(bl, br, wl, wr, r, D1_til_gen, D2_til_gen, H_matrix, U_ortho, V_ortho)\n",
        "        A_final += noise_level * randn(size(A_final))\n",
        "        B_final += noise_level * randn(size(B_final))\n",
        "        println(\"D1_til usado na geração (Misto):\"); display(D1_til_gen)\n",
        "        println(\"D2_til usado na geração (Misto):\"); display(D2_til_gen)\n",
        "    else\n",
        "        error(\"Tipo de caso desconhecido: $case_type\")\n",
        "    end\n",
        "    return A_final, B_final\n",
        "end\n",
        "\n",
        "function absolute_procrustes(A, B)\n",
        "    U, _, Vt = svd(B * A')  # B Aᵀ e não Aᵀ B\n",
        "    return U * Vt\n",
        "end\n",
        "\n",
        "\n",
        "function main_test_suite(A_input=nothing, B_input=nothing)\n",
        "    angle_low_thresh = 30.0\n",
        "    angle_high_thresh = 60.0\n",
        "    target_angle_keep = 45.0\n",
        "\n",
        "    if A_input !== nothing && B_input !== nothing\n",
        "        run_test_aprox_by_angle_on_generated_data(A_input, B_input, \"Entrada Externa\",\n",
        "                                                  angle_low_thresh, angle_high_thresh, target_angle_keep)\n",
        "        return\n",
        "    end\n",
        "\n",
        "    # Código antigo continua aqui se nenhuma entrada for fornecida\n",
        "    m_rows = 2\n",
        "    p_rows = 2\n",
        "    n_cols_H = 3\n",
        "    r_param = 1\n",
        "    bl_param = 1\n",
        "    br_param = 0\n",
        "    n_cols_H_adjusted = bl_param + r_param + br_param\n",
        "    if n_cols_H_adjusted == 0\n",
        "        n_cols_H_adjusted = 1\n",
        "    end\n",
        "    if n_cols_H != n_cols_H_adjusted\n",
        "        println(\"Ajustando n_cols_H para $n_cols_H_adjusted para H ser quadrada com D1/D2.\")\n",
        "        n_cols_H = n_cols_H_adjusted\n",
        "    end\n",
        "\n",
        "    wl_param = m_rows - bl_param - r_param\n",
        "    wr_param = p_rows - br_param - r_param\n",
        "    if wl_param < 0; wl_param = 0; println(\"wl_param ajustado para 0\"); end\n",
        "    if wr_param < 0; wr_param = 0; println(\"wr_param ajustado para 0\"); end\n",
        "\n",
        "    println(\"Parâmetros de Geração: m=$m_rows, p=$p_rows, n_cols_AB=$n_cols_H\")\n",
        "    println(\"Blocos: bl=$bl_param, br=$br_param, wl=$wl_param, wr=$wr_param, r=$r_param\")\n",
        "\n",
        "    A_p, B_p = generate_data_case(\"Perfeito com Ruído\", m_rows, p_rows, n_cols_H,\n",
        "                                  bl_param, br_param, wl_param, wr_param, r_param, 0.05)\n",
        "    run_test_aprox_by_angle_on_generated_data(A_p, B_p, \"Perfeito com Ruído\",\n",
        "                                              angle_low_thresh, angle_high_thresh, target_angle_keep)\n",
        "\n",
        "    A_m, B_m = generate_data_case(\"Misto\", m_rows, p_rows, n_cols_H,\n",
        "                                  bl_param, br_param, wl_param, wr_param, r_param, 0.05)\n",
        "    run_test_aprox_by_angle_on_generated_data(A_m, B_m, \"Misto\",\n",
        "                                              angle_low_thresh, angle_high_thresh, target_angle_keep)\n",
        "end\n",
        "\n",
        "main_test_suite()\n",
        "\n"
      ]
    },
    {
      "cell_type": "code",
      "source": [
        "B = [0 1 0\n",
        "     0 0 1]\n",
        "\n",
        "A = [1 0 0\n",
        "     0 1 0]\n",
        "\n",
        "main_test_suite(A, B)"
      ],
      "metadata": {
        "colab": {
          "base_uri": "https://localhost:8080/",
          "height": 1000
        },
        "id": "OJktAPiMFRiR",
        "outputId": "9e0a5fe5-5cb9-406a-ac8e-29ce6ad1b412"
      },
      "execution_count": 27,
      "outputs": [
        {
          "output_type": "stream",
          "name": "stdout",
          "text": [
            "\n",
            "--- Executando Teste para: Entrada Externa ---\n",
            "Usando limiares de ângulo: [30.0, 60.0] graus, Ângulo alvo para manter: 45.0 graus.\n",
            "Matriz A (Entrada):\n"
          ]
        },
        {
          "output_type": "display_data",
          "data": {
            "text/plain": [
              "2×3 Matrix{Int64}:\n",
              " 1  0  0\n",
              " 0  1  0"
            ]
          },
          "metadata": {}
        },
        {
          "output_type": "stream",
          "name": "stdout",
          "text": [
            "Matriz B (Entrada):\n"
          ]
        },
        {
          "output_type": "display_data",
          "data": {
            "text/plain": [
              "2×3 Matrix{Int64}:\n",
              " 0  1  0\n",
              " 0  0  1"
            ]
          },
          "metadata": {}
        },
        {
          "output_type": "stream",
          "name": "stdout",
          "text": [
            "D1_full (Recuperado por Our_SVD):\n"
          ]
        },
        {
          "output_type": "display_data",
          "data": {
            "text/plain": [
              "2×3 Matrix{Float64}:\n",
              " 1.0  0.0       0.0\n",
              " 0.0  0.707107  0.0"
            ]
          },
          "metadata": {}
        },
        {
          "output_type": "stream",
          "name": "stdout",
          "text": [
            "D2_full (Recuperado por Our_SVD):\n"
          ]
        },
        {
          "output_type": "display_data",
          "data": {
            "text/plain": [
              "2×3 Matrix{Float64}:\n",
              " 0.0  0.707107  0.0\n",
              " 0.0  0.0       1.0"
            ]
          },
          "metadata": {}
        },
        {
          "output_type": "stream",
          "name": "stdout",
          "text": [
            "Parâmetros de bloco recuperados: bl=1, br=1, wl=0, wr=0, r=1\n",
            "D1_switch (reconstrução -- troca de cor):\n"
          ]
        },
        {
          "output_type": "display_data",
          "data": {
            "text/plain": [
              "2×2 Matrix{Float64}:\n",
              " 1.0  0.0\n",
              " 0.0  0.707107"
            ]
          },
          "metadata": {}
        },
        {
          "output_type": "stream",
          "name": "stdout",
          "text": [
            "D2_switch (reconstrução -- troca de cor):\n"
          ]
        },
        {
          "output_type": "display_data",
          "data": {
            "text/plain": [
              "2×2 Matrix{Float64}:\n",
              " 0.0  0.707107\n",
              " 0.0  0.0"
            ]
          },
          "metadata": {}
        },
        {
          "output_type": "stream",
          "name": "stdout",
          "text": [
            "D1_new (após aproximação e reconstrução):\n"
          ]
        },
        {
          "output_type": "display_data",
          "data": {
            "text/plain": [
              "2×2 Matrix{Float64}:\n",
              " 1.0  0.0\n",
              " 0.0  0.707107"
            ]
          },
          "metadata": {}
        },
        {
          "output_type": "stream",
          "name": "stdout",
          "text": [
            "D2_new (após aproximação e reconstrução):\n"
          ]
        },
        {
          "output_type": "display_data",
          "data": {
            "text/plain": [
              "2×2 Matrix{Float64}:\n",
              " 0.0  0.707107\n",
              " 0.0  0.0"
            ]
          },
          "metadata": {}
        },
        {
          "output_type": "stream",
          "name": "stdout",
          "text": [
            "T_approx:\n"
          ]
        },
        {
          "output_type": "display_data",
          "data": {
            "text/plain": [
              "2×2 Matrix{Float64}:\n",
              " 0.0  1.0\n",
              " 0.0  0.0"
            ]
          },
          "metadata": {}
        },
        {
          "output_type": "stream",
          "name": "stdout",
          "text": [
            "Q_estimated:\n"
          ]
        },
        {
          "output_type": "display_data",
          "data": {
            "text/plain": [
              "2×2 Matrix{Float64}:\n",
              " 0.0  1.0\n",
              " 0.0  0.0"
            ]
          },
          "metadata": {}
        },
        {
          "output_type": "stream",
          "name": "stdout",
          "text": [
            "A_transformed:\n"
          ]
        },
        {
          "output_type": "display_data",
          "data": {
            "text/plain": [
              "2×3 Matrix{Float64}:\n",
              " 0.0  1.0  0.0\n",
              " 0.0  0.0  0.0"
            ]
          },
          "metadata": {}
        },
        {
          "output_type": "stream",
          "name": "stdout",
          "text": [
            "Erro de Aproximação Global (Norma de Frobenius ||B - A_transformed||): 1.0000\n",
            "\n",
            "Comparação Coluna a Coluna (Norma da Diferença):\n",
            "Coluna 1: 0.0000\n",
            "Coluna 2: 0.0000\n",
            "Coluna 3: 1.0000\n",
            "\n",
            "[Comparação de Métodos]\n",
            "Erro Aproximação GSVD (Frobenius): 1.000000\n",
            "Erro Aproximação Procrustes:      2.449490\n",
            "Norma da diferença entre Q_GSVD e Q_Procrustes: 2.236068\n",
            "--- Fim do Teste: Entrada Externa ---\n"
          ]
        }
      ]
    }
  ]
}